{
 "cells": [
  {
   "cell_type": "markdown",
   "metadata": {},
   "source": [
    "# kerasに慣れよう2(Mnist認識)\n",
    "Mnist：28×28=784次元(各次元$\\in\\{0,1\\}$)の正解ラベル付き手書き数字画像  \n",
    "よく機械学習のチュートリアルで使われる  \n",
    "参考:[無から始めるKeras 第5回][1]\n",
    "[1]:https://qiita.com/Ishotihadus/items/b171272b954147976bfc"
   ]
  },
  {
   "cell_type": "markdown",
   "metadata": {},
   "source": [
    " <div style=\"text-align: center;\">\n",
    "  Mnist：手書き数字画像(100枚分)\n",
    "</div>\n",
    "![MNIST](http://europa:37564/tree/keras_zemi/mnist.png)"
   ]
  },
  {
   "cell_type": "markdown",
   "metadata": {},
   "source": [
    "## ライブラリなどの準備"
   ]
  },
  {
   "cell_type": "code",
   "execution_count": 1,
   "metadata": {},
   "outputs": [
    {
     "name": "stderr",
     "output_type": "stream",
     "text": [
      "Using TensorFlow backend.\n"
     ]
    }
   ],
   "source": [
    "from keras.datasets import mnist\n",
    "from keras.utils import np_utils\n",
    "from keras.models import Sequential\n",
    "from keras.layers import Dense, Activation, Dropout\n",
    "\n",
    "#GPUの仕様に関する設定\n",
    "import tensorflow as tf\n",
    "from keras import backend as K\n",
    "config = tf.ConfigProto(\n",
    "    gpu_options = tf.GPUOptions(\n",
    "        visible_device_list = \"0\",\n",
    "        per_process_gpu_memory_fraction = 0.3))\n",
    "sess = tf.Session(config=config)\n",
    "K.set_session(sess)"
   ]
  },
  {
   "cell_type": "markdown",
   "metadata": {},
   "source": [
    "## Mnist読み込み"
   ]
  },
  {
   "cell_type": "code",
   "execution_count": 2,
   "metadata": {},
   "outputs": [
    {
     "name": "stdout",
     "output_type": "stream",
     "text": [
      "変更前\n",
      "(60000, 28, 28)\n",
      "変更後\n",
      "(60000, 784)\n",
      "読み込んだラベル\n",
      "[5 0 4]\n",
      "onehot化したラベル\n",
      "[[0. 0. 0. 0. 0. 1. 0. 0. 0. 0.]\n",
      " [1. 0. 0. 0. 0. 0. 0. 0. 0. 0.]\n",
      " [0. 0. 0. 0. 1. 0. 0. 0. 0. 0.]]\n"
     ]
    }
   ],
   "source": [
    "(x_train, y_train), (x_test, y_test) = mnist.load_data()\n",
    "#{0,255}なので{0,1}に正規化&データの構造変更\n",
    "print(\"変更前\")\n",
    "print(x_train.shape)\n",
    "x_train = x_train.reshape(60000, 784)/255.0\n",
    "print(\"変更後\")\n",
    "print(x_train.shape)\n",
    "x_test = x_test.reshape(10000, 784)/255.0\n",
    "#ラベルのonehot化\n",
    "print(\"読み込んだラベル\")\n",
    "print(y_train[:3])\n",
    "y_train = np_utils.to_categorical(y_train, num_classes = 10)\n",
    "print(\"onehot化したラベル\")\n",
    "print(y_train[:3])"
   ]
  },
  {
   "cell_type": "markdown",
   "metadata": {},
   "source": [
    "## モデルの作成"
   ]
  },
  {
   "cell_type": "code",
   "execution_count": 3,
   "metadata": {},
   "outputs": [
    {
     "name": "stdout",
     "output_type": "stream",
     "text": [
      "_________________________________________________________________\n",
      "Layer (type)                 Output Shape              Param #   \n",
      "=================================================================\n",
      "dense_1 (Dense)              (None, 1300)              1020500   \n",
      "_________________________________________________________________\n",
      "dropout_1 (Dropout)          (None, 1300)              0         \n",
      "_________________________________________________________________\n",
      "dense_2 (Dense)              (None, 10)                13010     \n",
      "=================================================================\n",
      "Total params: 1,033,510\n",
      "Trainable params: 1,033,510\n",
      "Non-trainable params: 0\n",
      "_________________________________________________________________\n"
     ]
    }
   ],
   "source": [
    "model = Sequential([\n",
    "    Dense(1300, input_dim = 784, activation='relu'),\n",
    "    Dropout(0.4),\n",
    "    Dense(10, activation='softmax')\n",
    "])\n",
    "\n",
    "model.summary()"
   ]
  },
  {
   "cell_type": "markdown",
   "metadata": {},
   "source": [
    "## 学習"
   ]
  },
  {
   "cell_type": "code",
   "execution_count": 4,
   "metadata": {},
   "outputs": [
    {
     "name": "stdout",
     "output_type": "stream",
     "text": [
      "Train on 48000 samples, validate on 12000 samples\n",
      "Epoch 1/50\n",
      "48000/48000 [==============================] - 3s 56us/step - loss: 0.2809 - acc: 0.9170 - val_loss: 0.1325 - val_acc: 0.9619\n",
      "Epoch 2/50\n",
      "48000/48000 [==============================] - 2s 48us/step - loss: 0.1215 - acc: 0.9645 - val_loss: 0.1061 - val_acc: 0.9690\n",
      "Epoch 3/50\n",
      "48000/48000 [==============================] - 2s 44us/step - loss: 0.0848 - acc: 0.9742 - val_loss: 0.0915 - val_acc: 0.9721\n",
      "Epoch 4/50\n",
      "48000/48000 [==============================] - 2s 43us/step - loss: 0.0665 - acc: 0.9794 - val_loss: 0.0783 - val_acc: 0.9751\n",
      "Epoch 5/50\n",
      "48000/48000 [==============================] - 2s 47us/step - loss: 0.0546 - acc: 0.9832 - val_loss: 0.0791 - val_acc: 0.9774\n",
      "Epoch 6/50\n",
      "48000/48000 [==============================] - 2s 46us/step - loss: 0.0456 - acc: 0.9856 - val_loss: 0.0747 - val_acc: 0.9790\n",
      "Epoch 7/50\n",
      "48000/48000 [==============================] - 2s 49us/step - loss: 0.0386 - acc: 0.9875 - val_loss: 0.0753 - val_acc: 0.9785\n",
      "Epoch 8/50\n",
      "48000/48000 [==============================] - 2s 46us/step - loss: 0.0312 - acc: 0.9903 - val_loss: 0.0716 - val_acc: 0.9794\n",
      "Epoch 9/50\n",
      "48000/48000 [==============================] - 2s 49us/step - loss: 0.0278 - acc: 0.9913 - val_loss: 0.0720 - val_acc: 0.9802\n",
      "Epoch 10/50\n",
      "48000/48000 [==============================] - 2s 49us/step - loss: 0.0289 - acc: 0.9902 - val_loss: 0.0801 - val_acc: 0.9793\n",
      "Epoch 11/50\n",
      "48000/48000 [==============================] - 2s 49us/step - loss: 0.0258 - acc: 0.9910 - val_loss: 0.0695 - val_acc: 0.9814\n",
      "Epoch 12/50\n",
      "48000/48000 [==============================] - 2s 48us/step - loss: 0.0216 - acc: 0.9927 - val_loss: 0.0680 - val_acc: 0.9818\n",
      "Epoch 13/50\n",
      "48000/48000 [==============================] - 2s 51us/step - loss: 0.0204 - acc: 0.9933 - val_loss: 0.0761 - val_acc: 0.9804\n",
      "Epoch 14/50\n",
      "48000/48000 [==============================] - 2s 51us/step - loss: 0.0184 - acc: 0.9936 - val_loss: 0.0784 - val_acc: 0.9801\n",
      "Epoch 15/50\n",
      "48000/48000 [==============================] - 3s 54us/step - loss: 0.0188 - acc: 0.9934 - val_loss: 0.0796 - val_acc: 0.9815\n",
      "Epoch 16/50\n",
      "48000/48000 [==============================] - 3s 54us/step - loss: 0.0181 - acc: 0.9938 - val_loss: 0.0778 - val_acc: 0.9828\n",
      "Epoch 17/50\n",
      "48000/48000 [==============================] - 3s 55us/step - loss: 0.0166 - acc: 0.9943 - val_loss: 0.0851 - val_acc: 0.9823\n",
      "Epoch 18/50\n",
      "48000/48000 [==============================] - 3s 56us/step - loss: 0.0183 - acc: 0.9938 - val_loss: 0.0799 - val_acc: 0.9823\n",
      "Epoch 19/50\n",
      "48000/48000 [==============================] - 3s 55us/step - loss: 0.0166 - acc: 0.9945 - val_loss: 0.0824 - val_acc: 0.9813\n",
      "Epoch 20/50\n",
      "48000/48000 [==============================] - 3s 55us/step - loss: 0.0144 - acc: 0.9949 - val_loss: 0.0813 - val_acc: 0.9821\n",
      "Epoch 21/50\n",
      "48000/48000 [==============================] - 3s 56us/step - loss: 0.0108 - acc: 0.9963 - val_loss: 0.0833 - val_acc: 0.9833\n",
      "Epoch 22/50\n",
      "48000/48000 [==============================] - 3s 55us/step - loss: 0.0099 - acc: 0.9966 - val_loss: 0.0926 - val_acc: 0.9818\n",
      "Epoch 23/50\n",
      "48000/48000 [==============================] - 3s 54us/step - loss: 0.0135 - acc: 0.9959 - val_loss: 0.0895 - val_acc: 0.9828\n",
      "Epoch 24/50\n",
      "48000/48000 [==============================] - 3s 55us/step - loss: 0.0135 - acc: 0.9952 - val_loss: 0.1001 - val_acc: 0.9813\n",
      "Epoch 25/50\n",
      "48000/48000 [==============================] - 3s 54us/step - loss: 0.0147 - acc: 0.9950 - val_loss: 0.0938 - val_acc: 0.9804\n",
      "Epoch 26/50\n",
      "48000/48000 [==============================] - 3s 55us/step - loss: 0.0133 - acc: 0.9954 - val_loss: 0.0916 - val_acc: 0.9821\n",
      "Epoch 27/50\n",
      "48000/48000 [==============================] - 3s 55us/step - loss: 0.0129 - acc: 0.9957 - val_loss: 0.0845 - val_acc: 0.9814\n",
      "Epoch 28/50\n",
      "48000/48000 [==============================] - 3s 55us/step - loss: 0.0119 - acc: 0.9959 - val_loss: 0.0884 - val_acc: 0.9830\n",
      "Epoch 29/50\n",
      "48000/48000 [==============================] - 3s 54us/step - loss: 0.0116 - acc: 0.9961 - val_loss: 0.0920 - val_acc: 0.9820\n",
      "Epoch 30/50\n",
      "48000/48000 [==============================] - 3s 55us/step - loss: 0.0112 - acc: 0.9960 - val_loss: 0.0989 - val_acc: 0.9818\n",
      "Epoch 31/50\n",
      "48000/48000 [==============================] - 3s 56us/step - loss: 0.0112 - acc: 0.9961 - val_loss: 0.0899 - val_acc: 0.9815\n",
      "Epoch 32/50\n",
      "48000/48000 [==============================] - 3s 55us/step - loss: 0.0114 - acc: 0.9960 - val_loss: 0.0915 - val_acc: 0.9826\n",
      "Epoch 33/50\n",
      "48000/48000 [==============================] - 3s 55us/step - loss: 0.0098 - acc: 0.9967 - val_loss: 0.1084 - val_acc: 0.9809\n",
      "Epoch 34/50\n",
      "48000/48000 [==============================] - 3s 55us/step - loss: 0.0081 - acc: 0.9971 - val_loss: 0.0990 - val_acc: 0.9819\n",
      "Epoch 35/50\n",
      "48000/48000 [==============================] - 3s 56us/step - loss: 0.0122 - acc: 0.9961 - val_loss: 0.0974 - val_acc: 0.9820\n",
      "Epoch 36/50\n",
      "48000/48000 [==============================] - 3s 56us/step - loss: 0.0124 - acc: 0.9960 - val_loss: 0.1095 - val_acc: 0.9808\n",
      "Epoch 37/50\n",
      "48000/48000 [==============================] - 3s 55us/step - loss: 0.0117 - acc: 0.9962 - val_loss: 0.1057 - val_acc: 0.9815\n",
      "Epoch 38/50\n",
      "48000/48000 [==============================] - 3s 55us/step - loss: 0.0086 - acc: 0.9967 - val_loss: 0.1032 - val_acc: 0.9814\n",
      "Epoch 39/50\n",
      "48000/48000 [==============================] - 3s 55us/step - loss: 0.0097 - acc: 0.9969 - val_loss: 0.1069 - val_acc: 0.9826\n",
      "Epoch 40/50\n",
      "48000/48000 [==============================] - 3s 55us/step - loss: 0.0084 - acc: 0.9973 - val_loss: 0.1153 - val_acc: 0.9821\n",
      "Epoch 41/50\n",
      "48000/48000 [==============================] - 3s 54us/step - loss: 0.0112 - acc: 0.9964 - val_loss: 0.1062 - val_acc: 0.9808\n",
      "Epoch 42/50\n",
      "48000/48000 [==============================] - 3s 55us/step - loss: 0.0081 - acc: 0.9971 - val_loss: 0.1069 - val_acc: 0.9822\n",
      "Epoch 43/50\n",
      "48000/48000 [==============================] - 3s 55us/step - loss: 0.0095 - acc: 0.9967 - val_loss: 0.0953 - val_acc: 0.9848\n",
      "Epoch 44/50\n",
      "48000/48000 [==============================] - 3s 54us/step - loss: 0.0081 - acc: 0.9973 - val_loss: 0.1095 - val_acc: 0.9822\n",
      "Epoch 45/50\n",
      "48000/48000 [==============================] - 3s 55us/step - loss: 0.0102 - acc: 0.9970 - val_loss: 0.1033 - val_acc: 0.9816\n",
      "Epoch 46/50\n",
      "48000/48000 [==============================] - 3s 55us/step - loss: 0.0096 - acc: 0.9969 - val_loss: 0.1083 - val_acc: 0.9823\n",
      "Epoch 47/50\n",
      "48000/48000 [==============================] - 3s 55us/step - loss: 0.0081 - acc: 0.9975 - val_loss: 0.1143 - val_acc: 0.9825\n",
      "Epoch 48/50\n",
      "48000/48000 [==============================] - 3s 56us/step - loss: 0.0112 - acc: 0.9965 - val_loss: 0.1168 - val_acc: 0.9828\n",
      "Epoch 49/50\n",
      "48000/48000 [==============================] - 3s 56us/step - loss: 0.0077 - acc: 0.9974 - val_loss: 0.1081 - val_acc: 0.9838\n",
      "Epoch 50/50\n",
      "48000/48000 [==============================] - 3s 55us/step - loss: 0.0090 - acc: 0.9973 - val_loss: 0.1133 - val_acc: 0.9824\n"
     ]
    },
    {
     "data": {
      "text/plain": [
       "<keras.callbacks.History at 0x7f9615df3b00>"
      ]
     },
     "execution_count": 4,
     "metadata": {},
     "output_type": "execute_result"
    }
   ],
   "source": [
    "model.compile('adam', 'categorical_crossentropy', metrics=['accuracy'])\n",
    "model.fit(x_train, y_train, batch_size = 100, validation_split=0.2, epochs=50)"
   ]
  },
  {
   "cell_type": "markdown",
   "metadata": {},
   "source": [
    "## 識別"
   ]
  },
  {
   "cell_type": "code",
   "execution_count": 5,
   "metadata": {},
   "outputs": [
    {
     "name": "stdout",
     "output_type": "stream",
     "text": [
      "0.9845\n"
     ]
    }
   ],
   "source": [
    "predict = model.predict_classes(x_test)\n",
    "print(sum(predict == y_test)/ 10000.0)"
   ]
  },
  {
   "cell_type": "code",
   "execution_count": null,
   "metadata": {},
   "outputs": [],
   "source": []
  }
 ],
 "metadata": {
  "kernelspec": {
   "display_name": "Python 3",
   "language": "python",
   "name": "python3"
  },
  "language_info": {
   "codemirror_mode": {
    "name": "ipython",
    "version": 3
   },
   "file_extension": ".py",
   "mimetype": "text/x-python",
   "name": "python",
   "nbconvert_exporter": "python",
   "pygments_lexer": "ipython3",
   "version": "3.6.4"
  }
 },
 "nbformat": 4,
 "nbformat_minor": 2
}
