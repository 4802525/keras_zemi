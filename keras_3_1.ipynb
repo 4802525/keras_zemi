{
 "cells": [
  {
   "cell_type": "markdown",
   "metadata": {},
   "source": [
    "# kerasを使って話者識別モデルを作ろう\n",
    "データベース：  \n",
    "科警研DB 話者99人  \n",
    "発話内容 ATR音素バランス文A50文  \n",
    "  \n",
    "実験：  \n",
    "フレームレベルの認識  \n",
    "発話内容open  \n",
    " A01-A05の5文で学習，A06-A10の5文で検証，A11-A50の40文で評価  \n",
    "特徴量  \n",
    " 対数MFB40bin×7フレーム"
   ]
  },
  {
   "cell_type": "markdown",
   "metadata": {},
   "source": [
    "## ライブラリなどの準備"
   ]
  },
  {
   "cell_type": "code",
   "execution_count": 1,
   "metadata": {},
   "outputs": [
    {
     "name": "stderr",
     "output_type": "stream",
     "text": [
      "Using TensorFlow backend.\n"
     ]
    }
   ],
   "source": [
    "#ライブラリ群\n",
    "import argparse\n",
    "import numpy as np\n",
    "from numpy.random import *\n",
    "from tqdm import tqdm_notebook as tqdm\n",
    "import keras\n",
    "from keras.models import Sequential\n",
    "from keras.initializers import TruncatedNormal\n",
    "from keras.layers import Activation, Dense, Dropout\n",
    "from keras.utils import np_utils\n",
    "import tensorflow as tf\n",
    "from keras import backend as K\n",
    "import matplotlib.pyplot as plt\n",
    "%matplotlib inline\n",
    "#matplotlib.use(\"Agg\")\n",
    "\n",
    "#プログラムの引数\n",
    "# parser = argparse.ArgumentParser(description=\"Speaker Varification\")\n",
    "\n",
    "# parser.add_argument( '--gpu', '-g', default = \"0\", type = str,\n",
    "#                     help = 'GPU ID')\n",
    "# parser.add_argument( '--gpu_use', '-gu', default = 0.3, type = float,\n",
    "#                     help = 'GPU use rate')\n",
    "# parser.add_argument( '--list_directory', '-ld', default=\"/net/venus/research3/B4system2019/keras_zemi/kakeiken/list\",\n",
    "#                     help = 'list directory')\n",
    "# parser.add_argument( '--learn_input', '-li', default=\"mfb40_learn.lst\",\n",
    "#                     help = 'learn set')\n",
    "# parser.add_argument( '--valid_input', '-vi', default=\"mfb40_valid.lst\",\n",
    "#                     help = 'valid set')\n",
    "# parser.add_argument( '--test_input', '-ti', default=\"mfb40_test.lst\",\n",
    "#                     help = 'test set')\n",
    "# parser.add_argument( '--input_node', '-in', default=40, type=int,\n",
    "#                     help = 'number of input node')\n",
    "# parser.add_argument( '--num_frame', '-nf', default=1, type=int,\n",
    "#                     help = number of input frame)\n",
    "# parser.add_argument( '--output_node', '-on', default=99, type=int,\n",
    "#                     help = 'number of output node')\n",
    "# parser.add_argument( '--batch', '-b', default=1000, type=int,\n",
    "#                     help = 'learning minibatch size')\n",
    "# parser.add_argument( '--epoch', '-e', default=100, type=int,\n",
    "#                     help = 'number of epochs to learn')\n",
    "# parser.add_argument( '--savemodel', '-sm', default='none',\n",
    "#                     help = 'model file')\n",
    "# parser.add_argument( '--loadmodel', '-lm', default='none',\n",
    "#                     help = 'model file')\n",
    "# args = parser.parse_args()\n",
    "\n",
    "#parserの代わり\n",
    "class Argument:\n",
    "  gpu = \"0\"\n",
    "  gpu_use=0.3\n",
    "  list_directory = \"/net/venus/research3/B4system2019/keras_zemi/kakeiken/list\"\n",
    "  learn_input = \"mfb40_learn.lst\"\n",
    "  valid_input = \"mfb40_valid.lst\"\n",
    "  test_input = \"mfb40_test.lst\"\n",
    "  input_node = 40\n",
    "  num_frame = 7\n",
    "  output_node = 99\n",
    "  batch = 1000\n",
    "  epoch = 100\n",
    "  savemodel = 'none'\n",
    "  loadmodel = 'none'\n",
    "\n",
    "args = Argument\n",
    "\n",
    "config = tf.ConfigProto(\n",
    "  gpu_options = tf.GPUOptions(\n",
    "    visible_device_list=args.gpu,\n",
    "    per_process_gpu_memory_fraction=args.gpu_use\n",
    "  )\n",
    ")\n",
    "sess = tf.Session(config=config)\n",
    "K.set_session(sess)\n",
    "\n",
    "batchsize = args.batch\n",
    "n_input = args.input_node\n",
    "n_frame = args.num_frame\n",
    "n_output = args.output_node\n",
    "n_epoch = args.epoch"
   ]
  },
  {
   "cell_type": "markdown",
   "metadata": {},
   "source": [
    "## 関数の準備\n",
    "### file_read:リストファイルを読み込んでラベルと特徴量を返す\n",
    "labels:1フレームごとのone-hotラベル  \n",
    "features:1フレームごとの特徴量  \n",
    "### nomalization:正規化処理を行う\n",
    "各次元で学習データの平均分散を計算し，それを用いて正規化(標準化)を行う．"
   ]
  },
  {
   "cell_type": "code",
   "execution_count": 2,
   "metadata": {},
   "outputs": [],
   "source": [
    "def file_read(lstfile):\n",
    "  features_lst=[]\n",
    "  labels_lst=[]\n",
    "    \n",
    "  with open(lstfile) as fp:\n",
    "    for data in tqdm(fp):\n",
    "      tmp = np.load(data.rstrip())\n",
    "      #前後無音が入っているのでその部分は除去\n",
    "      x = tmp['feature'][10:-40]\n",
    "      y = tmp['label'][10:-40]\n",
    "      i = 0\n",
    "        \n",
    "      #n_frame結合し，リストに格納\n",
    "      for i in range(len(x) - n_frame):\n",
    "        x_ = x[i:i+n_frame].reshape(n_input*n_frame)\n",
    "        features_lst.append(x_)\n",
    "        labels_lst.append(y[0])\n",
    "\n",
    "  labels = np.array(np_utils.to_categorical(labels_lst), dtype = np.int32)\n",
    "  features = np.array(features_lst, dtype = np.float32)\n",
    "  return labels, features\n",
    "\n",
    "def nomalization(features, mean, std):\n",
    "  features=(features-mean)/std\n",
    "  return features\n"
   ]
  },
  {
   "cell_type": "markdown",
   "metadata": {},
   "source": [
    "## データ読み込み"
   ]
  },
  {
   "cell_type": "code",
   "execution_count": 3,
   "metadata": {},
   "outputs": [
    {
     "name": "stdout",
     "output_type": "stream",
     "text": [
      "learn data loding\n"
     ]
    },
    {
     "data": {
      "application/vnd.jupyter.widget-view+json": {
       "model_id": "162900ef23c8443f90b24b5c36befa8e",
       "version_major": 2,
       "version_minor": 0
      },
      "text/html": [
       "<p>Failed to display Jupyter Widget of type <code>HBox</code>.</p>\n",
       "<p>\n",
       "  If you're reading this message in the Jupyter Notebook or JupyterLab Notebook, it may mean\n",
       "  that the widgets JavaScript is still loading. If this message persists, it\n",
       "  likely means that the widgets JavaScript library is either not installed or\n",
       "  not enabled. See the <a href=\"https://ipywidgets.readthedocs.io/en/stable/user_install.html\">Jupyter\n",
       "  Widgets Documentation</a> for setup instructions.\n",
       "</p>\n",
       "<p>\n",
       "  If you're reading this message in another frontend (for example, a static\n",
       "  rendering on GitHub or <a href=\"https://nbviewer.jupyter.org/\">NBViewer</a>),\n",
       "  it may mean that your frontend doesn't currently support widgets.\n",
       "</p>\n"
      ],
      "text/plain": [
       "HBox(children=(IntProgress(value=1, bar_style='info', max=1), HTML(value='')))"
      ]
     },
     "metadata": {},
     "output_type": "display_data"
    },
    {
     "name": "stdout",
     "output_type": "stream",
     "text": [
      "\n",
      "valid data loding\n"
     ]
    },
    {
     "data": {
      "application/vnd.jupyter.widget-view+json": {
       "model_id": "9efe47f9c86b4cbd8dbf3ea678955867",
       "version_major": 2,
       "version_minor": 0
      },
      "text/html": [
       "<p>Failed to display Jupyter Widget of type <code>HBox</code>.</p>\n",
       "<p>\n",
       "  If you're reading this message in the Jupyter Notebook or JupyterLab Notebook, it may mean\n",
       "  that the widgets JavaScript is still loading. If this message persists, it\n",
       "  likely means that the widgets JavaScript library is either not installed or\n",
       "  not enabled. See the <a href=\"https://ipywidgets.readthedocs.io/en/stable/user_install.html\">Jupyter\n",
       "  Widgets Documentation</a> for setup instructions.\n",
       "</p>\n",
       "<p>\n",
       "  If you're reading this message in another frontend (for example, a static\n",
       "  rendering on GitHub or <a href=\"https://nbviewer.jupyter.org/\">NBViewer</a>),\n",
       "  it may mean that your frontend doesn't currently support widgets.\n",
       "</p>\n"
      ],
      "text/plain": [
       "HBox(children=(IntProgress(value=1, bar_style='info', max=1), HTML(value='')))"
      ]
     },
     "metadata": {},
     "output_type": "display_data"
    },
    {
     "name": "stdout",
     "output_type": "stream",
     "text": [
      "\n",
      "test data loding\n"
     ]
    },
    {
     "data": {
      "application/vnd.jupyter.widget-view+json": {
       "model_id": "c5dca106da8f4c258160c4e352523c32",
       "version_major": 2,
       "version_minor": 0
      },
      "text/html": [
       "<p>Failed to display Jupyter Widget of type <code>HBox</code>.</p>\n",
       "<p>\n",
       "  If you're reading this message in the Jupyter Notebook or JupyterLab Notebook, it may mean\n",
       "  that the widgets JavaScript is still loading. If this message persists, it\n",
       "  likely means that the widgets JavaScript library is either not installed or\n",
       "  not enabled. See the <a href=\"https://ipywidgets.readthedocs.io/en/stable/user_install.html\">Jupyter\n",
       "  Widgets Documentation</a> for setup instructions.\n",
       "</p>\n",
       "<p>\n",
       "  If you're reading this message in another frontend (for example, a static\n",
       "  rendering on GitHub or <a href=\"https://nbviewer.jupyter.org/\">NBViewer</a>),\n",
       "  it may mean that your frontend doesn't currently support widgets.\n",
       "</p>\n"
      ],
      "text/plain": [
       "HBox(children=(IntProgress(value=1, bar_style='info', max=1), HTML(value='')))"
      ]
     },
     "metadata": {},
     "output_type": "display_data"
    },
    {
     "name": "stdout",
     "output_type": "stream",
     "text": [
      "\n",
      "(185657, 99) (185657, 280)\n"
     ]
    }
   ],
   "source": [
    "#学習データ\n",
    "print(\"learn data loding\")\n",
    "lstfile = args.list_directory + \"/\" + args.learn_input\n",
    "learn_labels, learn_features = file_read(lstfile)\n",
    "mean = np.mean(learn_features,axis=0)\n",
    "std = np.std(learn_features,axis=0)\n",
    "learn_features = nomalization(learn_features, mean, std)\n",
    "\n",
    "#検証データ\n",
    "print(\"valid data loding\")\n",
    "lstfile = args.list_directory + \"/\" + args.valid_input\n",
    "valid_labels, valid_features = file_read(lstfile)\n",
    "valid_features = nomalization(valid_features, mean, std)\n",
    "\n",
    "#評価データ\n",
    "print(\"test data loding\")\n",
    "lstfile = args.list_directory + \"/\" + args.test_input\n",
    "test_labels, test_features = file_read(lstfile)\n",
    "test_features = nomalization(test_features, mean, std)\n",
    "\n",
    "print(np.shape(learn_labels),np.shape(learn_features))"
   ]
  },
  {
   "cell_type": "markdown",
   "metadata": {},
   "source": [
    "## モデルの構築"
   ]
  },
  {
   "cell_type": "code",
   "execution_count": 4,
   "metadata": {},
   "outputs": [
    {
     "name": "stdout",
     "output_type": "stream",
     "text": [
      "_________________________________________________________________\n",
      "Layer (type)                 Output Shape              Param #   \n",
      "=================================================================\n",
      "dense_1 (Dense)              (None, 700)               196700    \n",
      "_________________________________________________________________\n",
      "activation_1 (Activation)    (None, 700)               0         \n",
      "_________________________________________________________________\n",
      "dropout_1 (Dropout)          (None, 700)               0         \n",
      "_________________________________________________________________\n",
      "dense_2 (Dense)              (None, 400)               280400    \n",
      "_________________________________________________________________\n",
      "activation_2 (Activation)    (None, 400)               0         \n",
      "_________________________________________________________________\n",
      "dropout_2 (Dropout)          (None, 400)               0         \n",
      "_________________________________________________________________\n",
      "dense_3 (Dense)              (None, 100)               40100     \n",
      "_________________________________________________________________\n",
      "activation_3 (Activation)    (None, 100)               0         \n",
      "_________________________________________________________________\n",
      "dropout_3 (Dropout)          (None, 100)               0         \n",
      "_________________________________________________________________\n",
      "dense_4 (Dense)              (None, 99)                9999      \n",
      "=================================================================\n",
      "Total params: 527,199\n",
      "Trainable params: 527,199\n",
      "Non-trainable params: 0\n",
      "_________________________________________________________________\n"
     ]
    }
   ],
   "source": [
    "TN = TruncatedNormal(seed=0) #切断正規分布\n",
    "\n",
    "#自分で作ってみよう(input_dim=n_input*n_frame)\n",
    "if args.loadmodel != 'none':\n",
    "  model = load_model(args.loadmodel)\n",
    "else:\n",
    "  model = Sequential([\n",
    "    Dense(700, input_dim=n_input*n_frame, kernel_initializer=TN),\n",
    "    Activation('relu'),\n",
    "    Dropout(0.2),\n",
    "    Dense(400, kernel_initializer=TN),\n",
    "    Activation('relu'),\n",
    "    Dropout(0.2),\n",
    "    Dense(100, kernel_initializer=TN),\n",
    "    Activation('relu'),\n",
    "    Dropout(0.2),\n",
    "    Dense(n_output, activation='softmax')\n",
    "])\n",
    "model.summary()"
   ]
  },
  {
   "cell_type": "markdown",
   "metadata": {},
   "source": [
    "## 学習"
   ]
  },
  {
   "cell_type": "code",
   "execution_count": 5,
   "metadata": {},
   "outputs": [
    {
     "name": "stdout",
     "output_type": "stream",
     "text": [
      "Train on 185657 samples, validate on 224406 samples\n",
      "Epoch 1/100\n",
      "185657/185657 [==============================] - 2s 13us/step - loss: 3.4056 - acc: 0.1952 - val_loss: 2.3944 - val_acc: 0.4093\n",
      "Epoch 2/100\n",
      "185657/185657 [==============================] - 2s 11us/step - loss: 2.1613 - acc: 0.4375 - val_loss: 1.9029 - val_acc: 0.5133\n",
      "Epoch 3/100\n",
      "185657/185657 [==============================] - 2s 10us/step - loss: 1.7435 - acc: 0.5321 - val_loss: 1.6709 - val_acc: 0.5673\n",
      "Epoch 4/100\n",
      "185657/185657 [==============================] - 2s 10us/step - loss: 1.5089 - acc: 0.5889 - val_loss: 1.5292 - val_acc: 0.5993\n",
      "Epoch 5/100\n",
      "185657/185657 [==============================] - 2s 10us/step - loss: 1.3497 - acc: 0.6242 - val_loss: 1.4149 - val_acc: 0.6244\n",
      "Epoch 6/100\n",
      "185657/185657 [==============================] - 2s 10us/step - loss: 1.2377 - acc: 0.6537 - val_loss: 1.3429 - val_acc: 0.6398\n",
      "Epoch 7/100\n",
      "185657/185657 [==============================] - 2s 10us/step - loss: 1.1433 - acc: 0.6757 - val_loss: 1.2848 - val_acc: 0.6546\n",
      "Epoch 8/100\n",
      "185657/185657 [==============================] - 2s 10us/step - loss: 1.0707 - acc: 0.6936 - val_loss: 1.2492 - val_acc: 0.6629\n",
      "Epoch 9/100\n",
      "185657/185657 [==============================] - 2s 11us/step - loss: 1.0106 - acc: 0.7085 - val_loss: 1.1973 - val_acc: 0.6745\n",
      "Epoch 10/100\n",
      "185657/185657 [==============================] - 2s 11us/step - loss: 0.9563 - acc: 0.7222 - val_loss: 1.2029 - val_acc: 0.6733\n",
      "Epoch 11/100\n",
      "185657/185657 [==============================] - 2s 12us/step - loss: 0.9167 - acc: 0.7338 - val_loss: 1.1494 - val_acc: 0.6877\n",
      "Epoch 12/100\n",
      "185657/185657 [==============================] - 2s 12us/step - loss: 0.8766 - acc: 0.7436 - val_loss: 1.1291 - val_acc: 0.6938\n",
      "Epoch 13/100\n",
      "185657/185657 [==============================] - 2s 12us/step - loss: 0.8456 - acc: 0.7521 - val_loss: 1.1300 - val_acc: 0.6940\n",
      "Epoch 14/100\n",
      "185657/185657 [==============================] - 2s 12us/step - loss: 0.8148 - acc: 0.7594 - val_loss: 1.1144 - val_acc: 0.6994\n",
      "Epoch 15/100\n",
      "185657/185657 [==============================] - 2s 12us/step - loss: 0.7856 - acc: 0.7675 - val_loss: 1.1029 - val_acc: 0.7009\n",
      "Epoch 16/100\n",
      "185657/185657 [==============================] - 2s 12us/step - loss: 0.7614 - acc: 0.7742 - val_loss: 1.0970 - val_acc: 0.7054\n",
      "Epoch 17/100\n",
      "185657/185657 [==============================] - 2s 11us/step - loss: 0.7390 - acc: 0.7786 - val_loss: 1.0696 - val_acc: 0.7146\n",
      "Epoch 18/100\n",
      "185657/185657 [==============================] - 2s 12us/step - loss: 0.7228 - acc: 0.7852 - val_loss: 1.1137 - val_acc: 0.7030\n",
      "Epoch 19/100\n",
      "185657/185657 [==============================] - 2s 12us/step - loss: 0.6994 - acc: 0.7899 - val_loss: 1.0567 - val_acc: 0.7182\n",
      "Epoch 20/100\n",
      "185657/185657 [==============================] - 2s 12us/step - loss: 0.6834 - acc: 0.7952 - val_loss: 1.0633 - val_acc: 0.7157\n",
      "Epoch 21/100\n",
      "185657/185657 [==============================] - 2s 12us/step - loss: 0.6679 - acc: 0.7990 - val_loss: 1.1294 - val_acc: 0.7020\n",
      "Epoch 22/100\n",
      "185657/185657 [==============================] - 2s 11us/step - loss: 0.6518 - acc: 0.8032 - val_loss: 1.0380 - val_acc: 0.7237\n",
      "Epoch 23/100\n",
      "185657/185657 [==============================] - 2s 12us/step - loss: 0.6375 - acc: 0.8070 - val_loss: 1.0486 - val_acc: 0.7222\n",
      "Epoch 24/100\n",
      "185657/185657 [==============================] - 2s 12us/step - loss: 0.6286 - acc: 0.8106 - val_loss: 1.0288 - val_acc: 0.7283\n",
      "Epoch 25/100\n",
      "185657/185657 [==============================] - 2s 11us/step - loss: 0.6132 - acc: 0.8145 - val_loss: 1.0361 - val_acc: 0.7259\n",
      "Epoch 26/100\n",
      "185657/185657 [==============================] - 2s 12us/step - loss: 0.6026 - acc: 0.8168 - val_loss: 1.0537 - val_acc: 0.7241\n",
      "Epoch 27/100\n",
      "185657/185657 [==============================] - 2s 12us/step - loss: 0.5910 - acc: 0.8207 - val_loss: 1.0421 - val_acc: 0.7284\n",
      "Epoch 28/100\n",
      "185657/185657 [==============================] - 2s 12us/step - loss: 0.5851 - acc: 0.8218 - val_loss: 1.0449 - val_acc: 0.7277\n",
      "Epoch 29/100\n",
      "185657/185657 [==============================] - 2s 12us/step - loss: 0.5721 - acc: 0.8256 - val_loss: 1.0563 - val_acc: 0.7264\n",
      "Epoch 30/100\n",
      "185657/185657 [==============================] - 2s 12us/step - loss: 0.5642 - acc: 0.8275 - val_loss: 1.0267 - val_acc: 0.7343\n",
      "Epoch 31/100\n",
      "185657/185657 [==============================] - 2s 12us/step - loss: 0.5581 - acc: 0.8288 - val_loss: 1.0161 - val_acc: 0.7364\n",
      "Epoch 32/100\n",
      "185657/185657 [==============================] - 2s 12us/step - loss: 0.5464 - acc: 0.8337 - val_loss: 1.0259 - val_acc: 0.7346\n",
      "Epoch 33/100\n",
      "185657/185657 [==============================] - 2s 12us/step - loss: 0.5400 - acc: 0.8351 - val_loss: 1.0379 - val_acc: 0.7315\n",
      "Epoch 34/100\n",
      "185657/185657 [==============================] - 2s 12us/step - loss: 0.5367 - acc: 0.8359 - val_loss: 1.0077 - val_acc: 0.7401\n",
      "Epoch 35/100\n",
      "185657/185657 [==============================] - 2s 12us/step - loss: 0.5277 - acc: 0.8392 - val_loss: 1.0154 - val_acc: 0.7379\n",
      "Epoch 36/100\n",
      "185657/185657 [==============================] - 2s 11us/step - loss: 0.5167 - acc: 0.8408 - val_loss: 1.0343 - val_acc: 0.7341\n",
      "Epoch 37/100\n",
      "185657/185657 [==============================] - 2s 11us/step - loss: 0.5180 - acc: 0.8407 - val_loss: 1.0243 - val_acc: 0.7372\n",
      "Epoch 38/100\n",
      "185657/185657 [==============================] - 2s 11us/step - loss: 0.5064 - acc: 0.8441 - val_loss: 1.0170 - val_acc: 0.7388\n",
      "Epoch 39/100\n",
      "185657/185657 [==============================] - 2s 12us/step - loss: 0.5057 - acc: 0.8456 - val_loss: 1.0133 - val_acc: 0.7404\n",
      "Epoch 40/100\n",
      "185657/185657 [==============================] - 2s 12us/step - loss: 0.4969 - acc: 0.8477 - val_loss: 1.0431 - val_acc: 0.7364\n",
      "Epoch 41/100\n",
      "185657/185657 [==============================] - 2s 12us/step - loss: 0.4936 - acc: 0.8479 - val_loss: 1.0279 - val_acc: 0.7395\n",
      "Epoch 42/100\n",
      "185657/185657 [==============================] - 2s 12us/step - loss: 0.4860 - acc: 0.8497 - val_loss: 1.0258 - val_acc: 0.7409\n",
      "Epoch 43/100\n",
      "185657/185657 [==============================] - 2s 12us/step - loss: 0.4874 - acc: 0.8499 - val_loss: 1.0093 - val_acc: 0.7442\n",
      "Epoch 44/100\n",
      "185657/185657 [==============================] - 2s 11us/step - loss: 0.4763 - acc: 0.8534 - val_loss: 1.0306 - val_acc: 0.7393\n",
      "Epoch 45/100\n",
      "185657/185657 [==============================] - 2s 11us/step - loss: 0.4712 - acc: 0.8548 - val_loss: 1.0654 - val_acc: 0.7352\n",
      "Epoch 46/100\n",
      "185657/185657 [==============================] - 2s 11us/step - loss: 0.4729 - acc: 0.8536 - val_loss: 1.0202 - val_acc: 0.7459\n",
      "Epoch 47/100\n",
      "185657/185657 [==============================] - 2s 12us/step - loss: 0.4650 - acc: 0.8568 - val_loss: 1.0239 - val_acc: 0.7431\n",
      "Epoch 48/100\n",
      "185657/185657 [==============================] - 2s 12us/step - loss: 0.4733 - acc: 0.8553 - val_loss: 1.0227 - val_acc: 0.7434\n",
      "Epoch 49/100\n",
      "185657/185657 [==============================] - 2s 11us/step - loss: 0.4503 - acc: 0.8597 - val_loss: 1.0293 - val_acc: 0.7447\n",
      "Epoch 50/100\n",
      "185657/185657 [==============================] - 2s 11us/step - loss: 0.4482 - acc: 0.8608 - val_loss: 1.0185 - val_acc: 0.7487\n",
      "Epoch 51/100\n",
      "185657/185657 [==============================] - 2s 12us/step - loss: 0.4514 - acc: 0.8609 - val_loss: 1.0160 - val_acc: 0.7477\n",
      "Epoch 52/100\n",
      "185657/185657 [==============================] - 2s 12us/step - loss: 0.4462 - acc: 0.8613 - val_loss: 1.0257 - val_acc: 0.7451\n",
      "Epoch 53/100\n",
      "185657/185657 [==============================] - 2s 11us/step - loss: 0.4439 - acc: 0.8623 - val_loss: 1.0124 - val_acc: 0.7481\n",
      "Epoch 54/100\n",
      "185657/185657 [==============================] - 2s 12us/step - loss: 0.4345 - acc: 0.8651 - val_loss: 1.0471 - val_acc: 0.7449\n",
      "Epoch 55/100\n",
      "185657/185657 [==============================] - 2s 12us/step - loss: 0.4341 - acc: 0.8656 - val_loss: 1.0285 - val_acc: 0.7498\n",
      "Epoch 56/100\n",
      "185657/185657 [==============================] - 2s 12us/step - loss: 0.4318 - acc: 0.8657 - val_loss: 1.0174 - val_acc: 0.7496\n",
      "Epoch 57/100\n",
      "185657/185657 [==============================] - 2s 12us/step - loss: 0.4304 - acc: 0.8664 - val_loss: 1.0240 - val_acc: 0.7483\n",
      "Epoch 58/100\n",
      "185657/185657 [==============================] - 2s 12us/step - loss: 0.4290 - acc: 0.8677 - val_loss: 1.0266 - val_acc: 0.7488\n"
     ]
    },
    {
     "name": "stdout",
     "output_type": "stream",
     "text": [
      "Epoch 59/100\n",
      "185657/185657 [==============================] - 2s 12us/step - loss: 0.4242 - acc: 0.8679 - val_loss: 1.0241 - val_acc: 0.7493\n",
      "Epoch 60/100\n",
      "185657/185657 [==============================] - 2s 12us/step - loss: 0.4191 - acc: 0.8696 - val_loss: 1.0078 - val_acc: 0.7522\n",
      "Epoch 61/100\n",
      "185657/185657 [==============================] - 2s 12us/step - loss: 0.4178 - acc: 0.8707 - val_loss: 1.0287 - val_acc: 0.7476\n",
      "Epoch 62/100\n",
      "185657/185657 [==============================] - 2s 12us/step - loss: 0.4126 - acc: 0.8713 - val_loss: 1.0544 - val_acc: 0.7432\n",
      "Epoch 63/100\n",
      "185657/185657 [==============================] - 2s 12us/step - loss: 0.4147 - acc: 0.8711 - val_loss: 1.0209 - val_acc: 0.7511\n",
      "Epoch 64/100\n",
      "185657/185657 [==============================] - 2s 12us/step - loss: 0.4080 - acc: 0.8737 - val_loss: 1.0198 - val_acc: 0.7505\n",
      "Epoch 65/100\n",
      "185657/185657 [==============================] - 2s 12us/step - loss: 0.4130 - acc: 0.8718 - val_loss: 1.0705 - val_acc: 0.7422\n",
      "Epoch 66/100\n",
      "185657/185657 [==============================] - 2s 12us/step - loss: 0.4052 - acc: 0.8738 - val_loss: 1.0280 - val_acc: 0.7534\n",
      "Epoch 67/100\n",
      "185657/185657 [==============================] - 2s 12us/step - loss: 0.3997 - acc: 0.8757 - val_loss: 1.0191 - val_acc: 0.7524\n",
      "Epoch 68/100\n",
      "185657/185657 [==============================] - 2s 12us/step - loss: 0.3932 - acc: 0.8776 - val_loss: 1.0270 - val_acc: 0.7518\n",
      "Epoch 69/100\n",
      "185657/185657 [==============================] - 2s 12us/step - loss: 0.3977 - acc: 0.8770 - val_loss: 1.0432 - val_acc: 0.7503\n",
      "Epoch 70/100\n",
      "185657/185657 [==============================] - 2s 12us/step - loss: 0.4001 - acc: 0.8748 - val_loss: 1.0269 - val_acc: 0.7534\n",
      "Epoch 71/100\n",
      "185657/185657 [==============================] - 2s 12us/step - loss: 0.3915 - acc: 0.8778 - val_loss: 1.0641 - val_acc: 0.7445\n",
      "Epoch 72/100\n",
      "185657/185657 [==============================] - 2s 12us/step - loss: 0.3876 - acc: 0.8792 - val_loss: 1.0395 - val_acc: 0.7525\n",
      "Epoch 73/100\n",
      "185657/185657 [==============================] - 2s 12us/step - loss: 0.3833 - acc: 0.8809 - val_loss: 1.0395 - val_acc: 0.7532\n",
      "Epoch 74/100\n",
      "185657/185657 [==============================] - 2s 12us/step - loss: 0.3911 - acc: 0.8786 - val_loss: 1.0680 - val_acc: 0.7456\n",
      "Epoch 75/100\n",
      "185657/185657 [==============================] - 2s 12us/step - loss: 0.3846 - acc: 0.8798 - val_loss: 1.0377 - val_acc: 0.7540\n",
      "Epoch 76/100\n",
      "185657/185657 [==============================] - 2s 12us/step - loss: 0.3795 - acc: 0.8819 - val_loss: 1.0540 - val_acc: 0.7512\n",
      "Epoch 77/100\n",
      "185657/185657 [==============================] - 2s 12us/step - loss: 0.3854 - acc: 0.8805 - val_loss: 1.0297 - val_acc: 0.7550\n",
      "Epoch 78/100\n",
      "185657/185657 [==============================] - 2s 12us/step - loss: 0.3755 - acc: 0.8838 - val_loss: 1.0341 - val_acc: 0.7538\n",
      "Epoch 79/100\n",
      "185657/185657 [==============================] - 2s 12us/step - loss: 0.3777 - acc: 0.8820 - val_loss: 1.0365 - val_acc: 0.7555\n",
      "Epoch 80/100\n",
      "185657/185657 [==============================] - 2s 12us/step - loss: 0.3722 - acc: 0.8842 - val_loss: 1.0416 - val_acc: 0.7524\n",
      "Epoch 81/100\n",
      "185657/185657 [==============================] - 2s 12us/step - loss: 0.3686 - acc: 0.8848 - val_loss: 1.0416 - val_acc: 0.7557\n",
      "Epoch 82/100\n",
      "185657/185657 [==============================] - 2s 12us/step - loss: 0.3743 - acc: 0.8827 - val_loss: 1.0220 - val_acc: 0.7562\n",
      "Epoch 83/100\n",
      "185657/185657 [==============================] - 2s 12us/step - loss: 0.3710 - acc: 0.8836 - val_loss: 1.0632 - val_acc: 0.7488\n",
      "Epoch 84/100\n",
      "185657/185657 [==============================] - 2s 12us/step - loss: 0.3664 - acc: 0.8857 - val_loss: 1.0274 - val_acc: 0.7576\n",
      "Epoch 85/100\n",
      "185657/185657 [==============================] - 2s 12us/step - loss: 0.3658 - acc: 0.8855 - val_loss: 1.0575 - val_acc: 0.7512\n",
      "Epoch 86/100\n",
      "185657/185657 [==============================] - 2s 12us/step - loss: 0.3622 - acc: 0.8864 - val_loss: 1.0431 - val_acc: 0.7558\n",
      "Epoch 87/100\n",
      "185657/185657 [==============================] - 2s 12us/step - loss: 0.3630 - acc: 0.8863 - val_loss: 1.0564 - val_acc: 0.7533\n",
      "Epoch 88/100\n",
      "185657/185657 [==============================] - 2s 12us/step - loss: 0.3634 - acc: 0.8864 - val_loss: 1.0391 - val_acc: 0.7572\n",
      "Epoch 89/100\n",
      "185657/185657 [==============================] - 2s 12us/step - loss: 0.3641 - acc: 0.8860 - val_loss: 1.0479 - val_acc: 0.7526\n",
      "Epoch 90/100\n",
      "185657/185657 [==============================] - 2s 12us/step - loss: 0.3593 - acc: 0.8880 - val_loss: 1.0481 - val_acc: 0.7557\n",
      "Epoch 91/100\n",
      "185657/185657 [==============================] - 2s 12us/step - loss: 0.3619 - acc: 0.8874 - val_loss: 1.0463 - val_acc: 0.7571\n",
      "Epoch 92/100\n",
      "185657/185657 [==============================] - 2s 12us/step - loss: 0.3519 - acc: 0.8911 - val_loss: 1.0532 - val_acc: 0.7581\n",
      "Epoch 93/100\n",
      "185657/185657 [==============================] - 2s 12us/step - loss: 0.3501 - acc: 0.8902 - val_loss: 1.0665 - val_acc: 0.7532\n",
      "Epoch 94/100\n",
      "185657/185657 [==============================] - 2s 12us/step - loss: 0.3534 - acc: 0.8897 - val_loss: 1.0456 - val_acc: 0.7571\n",
      "Epoch 95/100\n",
      "185657/185657 [==============================] - 2s 12us/step - loss: 0.3478 - acc: 0.8911 - val_loss: 1.0556 - val_acc: 0.7567\n",
      "Epoch 96/100\n",
      "185657/185657 [==============================] - 2s 12us/step - loss: 0.3507 - acc: 0.8909 - val_loss: 1.0467 - val_acc: 0.7583\n",
      "Epoch 97/100\n",
      "185657/185657 [==============================] - 2s 12us/step - loss: 0.3475 - acc: 0.8919 - val_loss: 1.0777 - val_acc: 0.7520\n",
      "Epoch 98/100\n",
      "185657/185657 [==============================] - 2s 12us/step - loss: 0.3451 - acc: 0.8917 - val_loss: 1.0730 - val_acc: 0.7542\n",
      "Epoch 99/100\n",
      "185657/185657 [==============================] - 2s 12us/step - loss: 0.3455 - acc: 0.8922 - val_loss: 1.0603 - val_acc: 0.7580\n",
      "Epoch 100/100\n",
      "185657/185657 [==============================] - 2s 12us/step - loss: 0.3417 - acc: 0.8923 - val_loss: 1.0425 - val_acc: 0.7580\n"
     ]
    }
   ],
   "source": [
    "model.compile(loss='categorical_crossentropy', \n",
    "              optimizer='adam', metrics=['accuracy'])\n",
    "hist = model.fit(x=learn_features, y=learn_labels,\n",
    "          batch_size=batchsize, epochs=n_epoch,\n",
    "          validation_data=(valid_features,valid_labels))"
   ]
  },
  {
   "cell_type": "markdown",
   "metadata": {},
   "source": [
    "## モデルの保存と学習曲線の表示"
   ]
  },
  {
   "cell_type": "code",
   "execution_count": 6,
   "metadata": {},
   "outputs": [
    {
     "data": {
      "text/plain": [
       "Text(0.5,1,'acc')"
      ]
     },
     "execution_count": 6,
     "metadata": {},
     "output_type": "execute_result"
    },
    {
     "data": {
      "image/png": "[encoded data removed]",
      "text/plain": [
       "<matplotlib.figure.Figure at 0x7fed9011ae10>"
      ]
     },
     "metadata": {},
     "output_type": "display_data"
    },
    {
     "data": {
      "image/png": "[encoded data removed]",
      "text/plain": [
       "<matplotlib.figure.Figure at 0x7fed583dc7b8>"
      ]
     },
     "metadata": {},
     "output_type": "display_data"
    }
   ],
   "source": [
    "#モデルの保存\n",
    "if args.savemodel != 'none':\n",
    "  model.save(args.savemodel)\n",
    "\n",
    "#loss\n",
    "loss = hist.history[\"loss\"]\n",
    "val_loss = hist.history[\"val_loss\"]\n",
    "fig = plt.figure()\n",
    "plt.plot(range(len(loss)), loss, \"bo\", color=\"r\", label=\"Training loss\")\n",
    "plt.plot(range(len(val_loss)), val_loss, \"bo\", color=\"b\", label=\"validing loss\")\n",
    "plt.xlabel(\"epochs\")\n",
    "plt.title(\"loss\")\n",
    "\n",
    "#acc\n",
    "acc = hist.history[\"acc\"]\n",
    "val_acc = hist.history[\"val_acc\"]\n",
    "fig = plt.figure()\n",
    "plt.ylim(0,1)\n",
    "plt.plot(range(len(acc)), acc, \"bo\", color=\"r\", label=\"Training acc\")\n",
    "plt.plot(range(len(val_acc)), val_acc, \"bo\", color=\"b\", label=\"validing acc\")\n",
    "plt.xlabel(\"epochs\")\n",
    "plt.title(\"acc\")"
   ]
  },
  {
   "cell_type": "markdown",
   "metadata": {},
   "source": [
    "## フレームレベルの評価"
   ]
  },
  {
   "cell_type": "code",
   "execution_count": 7,
   "metadata": {},
   "outputs": [
    {
     "name": "stdout",
     "output_type": "stream",
     "text": [
      "trainset error rate\n",
      "3.5150842683012224\n",
      "validset error rate\n",
      "24.202561428838802\n",
      "testset error rate\n",
      "23.828872264855516\n"
     ]
    }
   ],
   "source": [
    "#学習データ\n",
    "predict = model.predict_classes(learn_features)\n",
    "print(\"trainset error rate\")\n",
    "print(sum(predict != np.argmax(learn_labels, axis=1))/ len(learn_labels)*100)\n",
    "\n",
    "predict = model.predict_classes(valid_features)\n",
    "print(\"validset error rate\")\n",
    "print(sum(predict != np.argmax(valid_labels, axis=1))/ len(valid_labels)*100)\n",
    "\n",
    "predict = model.predict_classes(test_features)\n",
    "print(\"testset error rate\")\n",
    "print(sum(predict != np.argmax(test_labels, axis=1))/ len(test_labels)*100)"
   ]
  },
  {
   "cell_type": "code",
   "execution_count": null,
   "metadata": {},
   "outputs": [],
   "source": []
  },
  {
   "cell_type": "code",
   "execution_count": null,
   "metadata": {},
   "outputs": [],
   "source": []
  }
 ],
 "metadata": {
  "kernelspec": {
   "display_name": "Python 3",
   "language": "python",
   "name": "python3"
  },
  "language_info": {
   "codemirror_mode": {
    "name": "ipython",
    "version": 3
   },
   "file_extension": ".py",
   "mimetype": "text/x-python",
   "name": "python",
   "nbconvert_exporter": "python",
   "pygments_lexer": "ipython3",
   "version": "3.6.4"
  }
 },
 "nbformat": 4,
 "nbformat_minor": 2
}
