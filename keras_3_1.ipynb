{
 "cells": [
  {
   "cell_type": "markdown",
   "metadata": {},
   "source": [
    "# kerasを使って話者識別モデルを作ろう\n",
    "データベース：  \n",
    "科警研DB 話者99人  \n",
    "発話内容 ATR音素バランス文A50文  \n",
    "  \n",
    "実験：  \n",
    "フレームレベルの認識  \n",
    "発話内容open  \n",
    " A01-A05の5文で学習，A06-A10の5文で検証，A11-A50の40文で評価  \n",
    "特徴量  \n",
    " 対数MFB40bin×7フレーム"
   ]
  },
  {
   "cell_type": "markdown",
   "metadata": {},
   "source": [
    "## ライブラリなどの準備"
   ]
  },
  {
   "cell_type": "code",
   "execution_count": 1,
   "metadata": {},
   "outputs": [
    {
     "name": "stderr",
     "output_type": "stream",
     "text": [
      "Using TensorFlow backend.\n"
     ]
    }
   ],
   "source": [
    "#ライブラリ群\n",
    "import argparse\n",
    "import numpy as np\n",
    "from numpy.random import *\n",
    "from tqdm import tqdm_notebook as tqdm\n",
    "import keras\n",
    "from keras.models import Sequential, load_model\n",
    "from keras.initializers import TruncatedNormal\n",
    "from keras.layers import Activation, Dense, Dropout\n",
    "from keras.utils import np_utils\n",
    "import tensorflow as tf\n",
    "from keras import backend as K\n",
    "import matplotlib.pyplot as plt\n",
    "%matplotlib inline\n",
    "#matplotlib.use(\"Agg\")\n",
    "\n",
    "#プログラムの引数\n",
    "# parser = argparse.ArgumentParser(description=\"Speaker Varification\")\n",
    "\n",
    "# parser.add_argument( '--gpu', '-g', default = \"0\", type = str,\n",
    "#                     help = 'GPU ID')\n",
    "# parser.add_argument( '--gpu_use', '-gu', default = 0.3, type = float,\n",
    "#                     help = 'GPU use rate')\n",
    "# parser.add_argument( '--list_directory', '-ld', default=\"/net/venus/research3/B4system2019/keras_zemi/kakeiken/list\",\n",
    "#                     help = 'list directory')\n",
    "# parser.add_argument( '--learn_input', '-li', default=\"mfb40_learn.lst\",\n",
    "#                     help = 'learn set')\n",
    "# parser.add_argument( '--valid_input', '-vi', default=\"mfb40_valid.lst\",\n",
    "#                     help = 'valid set')\n",
    "# parser.add_argument( '--test_input', '-ti', default=\"mfb40_test.lst\",\n",
    "#                     help = 'test set')\n",
    "# parser.add_argument( '--input_node', '-in', default=40, type=int,\n",
    "#                     help = 'number of input node')\n",
    "# parser.add_argument( '--num_frame', '-nf', default=7, type=int,\n",
    "#                     help = number of input frame)\n",
    "# parser.add_argument( '--output_node', '-on', default=99, type=int,\n",
    "#                     help = 'number of output node')\n",
    "# parser.add_argument( '--batch', '-b', default=1000, type=int,\n",
    "#                     help = 'learning minibatch size')\n",
    "# parser.add_argument( '--epoch', '-e', default=100, type=int,\n",
    "#                     help = 'number of epochs to learn')\n",
    "# parser.add_argument( '--savemodel', '-sm', default='none',\n",
    "#                     help = 'model file')\n",
    "# parser.add_argument( '--loadmodel', '-lm', default='none',\n",
    "#                     help = 'model file')\n",
    "# args = parser.parse_args()\n",
    "\n",
    "#parserの代わり\n",
    "class Argument:\n",
    "  gpu = \"0\"\n",
    "  gpu_use=0.3\n",
    "  list_directory = \"/net/venus/research3/B4system2019/keras_zemi/kakeiken/list\"\n",
    "  learn_input = \"mfb40_learn.lst\"\n",
    "  valid_input = \"mfb40_valid.lst\"\n",
    "  test_input = \"mfb40_test.lst\"\n",
    "  input_node = 40\n",
    "  num_frame = 7\n",
    "  output_node = 99\n",
    "  batch = 1000\n",
    "  epoch = 100\n",
    "  savemodel = 'none'\n",
    "  loadmodel = 'none'\n",
    "\n",
    "args = Argument\n",
    "\n",
    "config = tf.ConfigProto(\n",
    "  gpu_options = tf.GPUOptions(\n",
    "    visible_device_list=args.gpu,\n",
    "    per_process_gpu_memory_fraction=args.gpu_use\n",
    "  )\n",
    ")\n",
    "sess = tf.Session(config=config)\n",
    "K.set_session(sess)\n",
    "\n",
    "batchsize = args.batch\n",
    "n_input = args.input_node\n",
    "n_frame = args.num_frame\n",
    "n_output = args.output_node\n",
    "n_epoch = args.epoch"
   ]
  },
  {
   "cell_type": "markdown",
   "metadata": {},
   "source": [
    "## 関数の準備\n",
    "### file_read:リストファイルを読み込んでラベルと特徴量を返す\n",
    "labels:1フレームごとのone-hotラベル  \n",
    "features:1フレームごとの特徴量  \n",
    "### nomalization:正規化処理を行う\n",
    "各次元で学習データの平均分散を計算し，それを用いて正規化(標準化)を行う．"
   ]
  },
  {
   "cell_type": "code",
   "execution_count": 2,
   "metadata": {},
   "outputs": [],
   "source": [
    "def file_read(lstfile):\n",
    "  features_lst=[]\n",
    "  labels_lst=[]\n",
    "    \n",
    "  with open(lstfile) as fp:\n",
    "    for data in tqdm(fp):\n",
    "      tmp = np.load(data.rstrip())\n",
    "      #前後無音が入っているのでその部分は除去\n",
    "      x = tmp['feature'][10:-40]\n",
    "      y = tmp['label'][10:-40]\n",
    "      i = 0\n",
    "        \n",
    "      #n_frame結合し，リストに格納\n",
    "      for i in range(len(x) - n_frame):\n",
    "        x_ = x[i:i+n_frame].reshape(n_input*n_frame)\n",
    "        features_lst.append(x_)\n",
    "        labels_lst.append(y[0])\n",
    "\n",
    "  labels = np.array(np_utils.to_categorical(labels_lst), dtype = np.int32)\n",
    "  features = np.array(features_lst, dtype = np.float32)\n",
    "  return labels, features\n",
    "\n",
    "def nomalization(features, mean, std):\n",
    "  features=(features-mean)/std\n",
    "  return features\n"
   ]
  },
  {
   "cell_type": "markdown",
   "metadata": {},
   "source": [
    "## データ読み込み"
   ]
  },
  {
   "cell_type": "code",
   "execution_count": 3,
   "metadata": {},
   "outputs": [
    {
     "name": "stdout",
     "output_type": "stream",
     "text": [
      "learn data loding\n"
     ]
    },
    {
     "data": {
      "application/vnd.jupyter.widget-view+json": {
       "model_id": "c2235efbfda34fc9966684d132e5ee28",
       "version_major": 2,
       "version_minor": 0
      },
      "text/html": [
       "<p>Failed to display Jupyter Widget of type <code>HBox</code>.</p>\n",
       "<p>\n",
       "  If you're reading this message in the Jupyter Notebook or JupyterLab Notebook, it may mean\n",
       "  that the widgets JavaScript is still loading. If this message persists, it\n",
       "  likely means that the widgets JavaScript library is either not installed or\n",
       "  not enabled. See the <a href=\"https://ipywidgets.readthedocs.io/en/stable/user_install.html\">Jupyter\n",
       "  Widgets Documentation</a> for setup instructions.\n",
       "</p>\n",
       "<p>\n",
       "  If you're reading this message in another frontend (for example, a static\n",
       "  rendering on GitHub or <a href=\"https://nbviewer.jupyter.org/\">NBViewer</a>),\n",
       "  it may mean that your frontend doesn't currently support widgets.\n",
       "</p>\n"
      ],
      "text/plain": [
       "HBox(children=(IntProgress(value=1, bar_style='info', max=1), HTML(value='')))"
      ]
     },
     "metadata": {},
     "output_type": "display_data"
    },
    {
     "name": "stdout",
     "output_type": "stream",
     "text": [
      "\n",
      "valid data loding\n"
     ]
    },
    {
     "data": {
      "application/vnd.jupyter.widget-view+json": {
       "model_id": "ee026d71db41462f97b3801e9409b959",
       "version_major": 2,
       "version_minor": 0
      },
      "text/html": [
       "<p>Failed to display Jupyter Widget of type <code>HBox</code>.</p>\n",
       "<p>\n",
       "  If you're reading this message in the Jupyter Notebook or JupyterLab Notebook, it may mean\n",
       "  that the widgets JavaScript is still loading. If this message persists, it\n",
       "  likely means that the widgets JavaScript library is either not installed or\n",
       "  not enabled. See the <a href=\"https://ipywidgets.readthedocs.io/en/stable/user_install.html\">Jupyter\n",
       "  Widgets Documentation</a> for setup instructions.\n",
       "</p>\n",
       "<p>\n",
       "  If you're reading this message in another frontend (for example, a static\n",
       "  rendering on GitHub or <a href=\"https://nbviewer.jupyter.org/\">NBViewer</a>),\n",
       "  it may mean that your frontend doesn't currently support widgets.\n",
       "</p>\n"
      ],
      "text/plain": [
       "HBox(children=(IntProgress(value=1, bar_style='info', max=1), HTML(value='')))"
      ]
     },
     "metadata": {},
     "output_type": "display_data"
    },
    {
     "name": "stdout",
     "output_type": "stream",
     "text": [
      "\n",
      "test data loding\n"
     ]
    },
    {
     "data": {
      "application/vnd.jupyter.widget-view+json": {
       "model_id": "4500b48bff6542b489cd875ef0b844b6",
       "version_major": 2,
       "version_minor": 0
      },
      "text/html": [
       "<p>Failed to display Jupyter Widget of type <code>HBox</code>.</p>\n",
       "<p>\n",
       "  If you're reading this message in the Jupyter Notebook or JupyterLab Notebook, it may mean\n",
       "  that the widgets JavaScript is still loading. If this message persists, it\n",
       "  likely means that the widgets JavaScript library is either not installed or\n",
       "  not enabled. See the <a href=\"https://ipywidgets.readthedocs.io/en/stable/user_install.html\">Jupyter\n",
       "  Widgets Documentation</a> for setup instructions.\n",
       "</p>\n",
       "<p>\n",
       "  If you're reading this message in another frontend (for example, a static\n",
       "  rendering on GitHub or <a href=\"https://nbviewer.jupyter.org/\">NBViewer</a>),\n",
       "  it may mean that your frontend doesn't currently support widgets.\n",
       "</p>\n"
      ],
      "text/plain": [
       "HBox(children=(IntProgress(value=1, bar_style='info', max=1), HTML(value='')))"
      ]
     },
     "metadata": {},
     "output_type": "display_data"
    },
    {
     "name": "stdout",
     "output_type": "stream",
     "text": [
      "\n",
      "(185657, 99) (185657, 280)\n"
     ]
    }
   ],
   "source": [
    "#学習データ\n",
    "print(\"learn data loding\")\n",
    "lstfile = args.list_directory + \"/\" + args.learn_input\n",
    "learn_labels, learn_features = file_read(lstfile)\n",
    "mean = np.mean(learn_features,axis=0)\n",
    "std = np.std(learn_features,axis=0)\n",
    "learn_features = nomalization(learn_features, mean, std)\n",
    "\n",
    "#検証データ\n",
    "print(\"valid data loding\")\n",
    "lstfile = args.list_directory + \"/\" + args.valid_input\n",
    "valid_labels, valid_features = file_read(lstfile)\n",
    "valid_features = nomalization(valid_features, mean, std)\n",
    "\n",
    "#評価データ\n",
    "print(\"test data loding\")\n",
    "lstfile = args.list_directory + \"/\" + args.test_input\n",
    "test_labels, test_features = file_read(lstfile)\n",
    "test_features = nomalization(test_features, mean, std)\n",
    "\n",
    "print(np.shape(learn_labels),np.shape(learn_features))"
   ]
  },
  {
   "cell_type": "markdown",
   "metadata": {},
   "source": [
    "## モデルの構築"
   ]
  },
  {
   "cell_type": "code",
   "execution_count": 4,
   "metadata": {},
   "outputs": [
    {
     "name": "stdout",
     "output_type": "stream",
     "text": [
      "_________________________________________________________________\n",
      "Layer (type)                 Output Shape              Param #   \n",
      "=================================================================\n",
      "dense_1 (Dense)              (None, 700)               196700    \n",
      "_________________________________________________________________\n",
      "activation_1 (Activation)    (None, 700)               0         \n",
      "_________________________________________________________________\n",
      "dropout_1 (Dropout)          (None, 700)               0         \n",
      "_________________________________________________________________\n",
      "dense_2 (Dense)              (None, 400)               280400    \n",
      "_________________________________________________________________\n",
      "activation_2 (Activation)    (None, 400)               0         \n",
      "_________________________________________________________________\n",
      "dropout_2 (Dropout)          (None, 400)               0         \n",
      "_________________________________________________________________\n",
      "dense_3 (Dense)              (None, 100)               40100     \n",
      "_________________________________________________________________\n",
      "activation_3 (Activation)    (None, 100)               0         \n",
      "_________________________________________________________________\n",
      "dropout_3 (Dropout)          (None, 100)               0         \n",
      "_________________________________________________________________\n",
      "dense_4 (Dense)              (None, 99)                9999      \n",
      "=================================================================\n",
      "Total params: 527,199\n",
      "Trainable params: 527,199\n",
      "Non-trainable params: 0\n",
      "_________________________________________________________________\n"
     ]
    }
   ],
   "source": [
    "TN = TruncatedNormal(seed=0) #切断正規分布\n",
    "\n",
    "#自分で作ってみよう(input_dim=n_input*n_frame)\n",
    "if args.loadmodel != 'none':\n",
    "  model = load_model(args.loadmodel)\n",
    "else:\n",
    "  model = Sequential([\n",
    "    Dense(700, input_dim=n_input*n_frame, kernel_initializer=TN),\n",
    "    Activation('relu'),\n",
    "    Dropout(0.2),\n",
    "    Dense(400, kernel_initializer=TN),\n",
    "    Activation('relu'),\n",
    "    Dropout(0.2),\n",
    "    Dense(100, kernel_initializer=TN),\n",
    "    Activation('relu'),\n",
    "    Dropout(0.2),\n",
    "    Dense(n_output, activation='softmax')\n",
    "  ])\n",
    "model.summary()"
   ]
  },
  {
   "cell_type": "markdown",
   "metadata": {},
   "source": [
    "## 学習"
   ]
  },
  {
   "cell_type": "code",
   "execution_count": 5,
   "metadata": {},
   "outputs": [
    {
     "name": "stdout",
     "output_type": "stream",
     "text": [
      "Train on 185657 samples, validate on 224406 samples\n",
      "Epoch 1/100\n",
      "185657/185657 [==============================] - 2s 13us/step - loss: 3.4070 - acc: 0.1935 - val_loss: 2.4268 - val_acc: 0.4037\n",
      "Epoch 2/100\n",
      "185657/185657 [==============================] - 2s 10us/step - loss: 2.1616 - acc: 0.4352 - val_loss: 1.9085 - val_acc: 0.5127\n",
      "Epoch 3/100\n",
      "185657/185657 [==============================] - 2s 10us/step - loss: 1.7576 - acc: 0.5297 - val_loss: 1.6699 - val_acc: 0.5667\n",
      "Epoch 4/100\n",
      "185657/185657 [==============================] - 2s 10us/step - loss: 1.5159 - acc: 0.5861 - val_loss: 1.5199 - val_acc: 0.5993\n",
      "Epoch 5/100\n",
      "185657/185657 [==============================] - 2s 11us/step - loss: 1.3529 - acc: 0.6236 - val_loss: 1.4193 - val_acc: 0.6216\n",
      "Epoch 6/100\n",
      "185657/185657 [==============================] - 2s 11us/step - loss: 1.2354 - acc: 0.6524 - val_loss: 1.3397 - val_acc: 0.6384\n",
      "Epoch 7/100\n",
      "185657/185657 [==============================] - 2s 12us/step - loss: 1.1454 - acc: 0.6742 - val_loss: 1.3653 - val_acc: 0.6358\n",
      "Epoch 8/100\n",
      "185657/185657 [==============================] - 2s 12us/step - loss: 1.0729 - acc: 0.6929 - val_loss: 1.2495 - val_acc: 0.6630\n",
      "Epoch 9/100\n",
      "185657/185657 [==============================] - 2s 12us/step - loss: 1.0090 - acc: 0.7099 - val_loss: 1.2030 - val_acc: 0.6737\n",
      "Epoch 10/100\n",
      "185657/185657 [==============================] - 2s 12us/step - loss: 0.9568 - acc: 0.7219 - val_loss: 1.1755 - val_acc: 0.6820\n",
      "Epoch 11/100\n",
      "185657/185657 [==============================] - 2s 12us/step - loss: 0.9136 - acc: 0.7335 - val_loss: 1.2073 - val_acc: 0.6737\n",
      "Epoch 12/100\n",
      "185657/185657 [==============================] - 2s 12us/step - loss: 0.8732 - acc: 0.7449 - val_loss: 1.1446 - val_acc: 0.6931\n",
      "Epoch 13/100\n",
      "185657/185657 [==============================] - 2s 12us/step - loss: 0.8363 - acc: 0.7534 - val_loss: 1.1317 - val_acc: 0.6948\n",
      "Epoch 14/100\n",
      "185657/185657 [==============================] - 2s 12us/step - loss: 0.8132 - acc: 0.7607 - val_loss: 1.0989 - val_acc: 0.7054\n",
      "Epoch 15/100\n",
      "185657/185657 [==============================] - 2s 12us/step - loss: 0.7778 - acc: 0.7690 - val_loss: 1.0844 - val_acc: 0.7086\n",
      "Epoch 16/100\n",
      "185657/185657 [==============================] - 2s 12us/step - loss: 0.7612 - acc: 0.7741 - val_loss: 1.0910 - val_acc: 0.7090\n",
      "Epoch 17/100\n",
      "185657/185657 [==============================] - 2s 12us/step - loss: 0.7388 - acc: 0.7794 - val_loss: 1.0914 - val_acc: 0.7093\n",
      "Epoch 18/100\n",
      "185657/185657 [==============================] - 2s 12us/step - loss: 0.7079 - acc: 0.7880 - val_loss: 1.0741 - val_acc: 0.7158\n",
      "Epoch 19/100\n",
      "185657/185657 [==============================] - 2s 12us/step - loss: 0.6951 - acc: 0.7913 - val_loss: 1.0449 - val_acc: 0.7200\n",
      "Epoch 20/100\n",
      "185657/185657 [==============================] - 2s 12us/step - loss: 0.6802 - acc: 0.7962 - val_loss: 1.0393 - val_acc: 0.7252\n",
      "Epoch 21/100\n",
      "185657/185657 [==============================] - 2s 12us/step - loss: 0.6594 - acc: 0.8010 - val_loss: 1.0345 - val_acc: 0.7260\n",
      "Epoch 22/100\n",
      "185657/185657 [==============================] - 2s 12us/step - loss: 0.6450 - acc: 0.8049 - val_loss: 1.0362 - val_acc: 0.7259\n",
      "Epoch 23/100\n",
      "185657/185657 [==============================] - 2s 12us/step - loss: 0.6347 - acc: 0.8082 - val_loss: 1.0525 - val_acc: 0.7230\n",
      "Epoch 24/100\n",
      "185657/185657 [==============================] - 2s 12us/step - loss: 0.6214 - acc: 0.8120 - val_loss: 1.0447 - val_acc: 0.7246\n",
      "Epoch 25/100\n",
      "185657/185657 [==============================] - 2s 12us/step - loss: 0.6074 - acc: 0.8161 - val_loss: 1.0163 - val_acc: 0.7325\n",
      "Epoch 26/100\n",
      "185657/185657 [==============================] - 2s 12us/step - loss: 0.5958 - acc: 0.8189 - val_loss: 1.0208 - val_acc: 0.7325\n",
      "Epoch 27/100\n",
      "185657/185657 [==============================] - 2s 12us/step - loss: 0.5866 - acc: 0.8221 - val_loss: 1.0273 - val_acc: 0.7305\n",
      "Epoch 28/100\n",
      "185657/185657 [==============================] - 2s 12us/step - loss: 0.5795 - acc: 0.8226 - val_loss: 1.0190 - val_acc: 0.7342\n",
      "Epoch 29/100\n",
      "185657/185657 [==============================] - 2s 12us/step - loss: 0.5716 - acc: 0.8258 - val_loss: 1.0120 - val_acc: 0.7379\n",
      "Epoch 30/100\n",
      "185657/185657 [==============================] - 2s 12us/step - loss: 0.5599 - acc: 0.8292 - val_loss: 1.0097 - val_acc: 0.7391\n",
      "Epoch 31/100\n",
      "185657/185657 [==============================] - 2s 12us/step - loss: 0.5514 - acc: 0.8323 - val_loss: 1.0114 - val_acc: 0.7395\n",
      "Epoch 32/100\n",
      "185657/185657 [==============================] - 2s 12us/step - loss: 0.5381 - acc: 0.8351 - val_loss: 1.0357 - val_acc: 0.7330\n",
      "Epoch 33/100\n",
      "185657/185657 [==============================] - 2s 12us/step - loss: 0.5333 - acc: 0.8358 - val_loss: 1.0219 - val_acc: 0.7368\n",
      "Epoch 34/100\n",
      "185657/185657 [==============================] - 2s 12us/step - loss: 0.5283 - acc: 0.8383 - val_loss: 1.0066 - val_acc: 0.7384\n",
      "Epoch 35/100\n",
      "185657/185657 [==============================] - 2s 12us/step - loss: 0.5209 - acc: 0.8409 - val_loss: 1.0175 - val_acc: 0.7395\n",
      "Epoch 36/100\n",
      "185657/185657 [==============================] - 2s 12us/step - loss: 0.5215 - acc: 0.8409 - val_loss: 1.0244 - val_acc: 0.7374\n",
      "Epoch 37/100\n",
      "185657/185657 [==============================] - 2s 12us/step - loss: 0.5028 - acc: 0.8458 - val_loss: 1.0076 - val_acc: 0.7435\n",
      "Epoch 38/100\n",
      "185657/185657 [==============================] - 2s 12us/step - loss: 0.5024 - acc: 0.8451 - val_loss: 1.0081 - val_acc: 0.7434\n",
      "Epoch 39/100\n",
      "185657/185657 [==============================] - 2s 12us/step - loss: 0.4994 - acc: 0.8465 - val_loss: 1.0210 - val_acc: 0.7403\n",
      "Epoch 40/100\n",
      "185657/185657 [==============================] - 2s 12us/step - loss: 0.4938 - acc: 0.8486 - val_loss: 1.0407 - val_acc: 0.7364\n",
      "Epoch 41/100\n",
      "185657/185657 [==============================] - 2s 12us/step - loss: 0.4891 - acc: 0.8492 - val_loss: 1.0608 - val_acc: 0.7335\n",
      "Epoch 42/100\n",
      "185657/185657 [==============================] - 2s 12us/step - loss: 0.4799 - acc: 0.8518 - val_loss: 1.0054 - val_acc: 0.7445\n",
      "Epoch 43/100\n",
      "185657/185657 [==============================] - 2s 12us/step - loss: 0.4821 - acc: 0.8512 - val_loss: 1.0133 - val_acc: 0.7451\n",
      "Epoch 44/100\n",
      "185657/185657 [==============================] - 2s 12us/step - loss: 0.4702 - acc: 0.8546 - val_loss: 1.0456 - val_acc: 0.7382\n",
      "Epoch 45/100\n",
      "185657/185657 [==============================] - 2s 12us/step - loss: 0.4732 - acc: 0.8549 - val_loss: 1.0233 - val_acc: 0.7439\n",
      "Epoch 46/100\n",
      "185657/185657 [==============================] - 2s 12us/step - loss: 0.4679 - acc: 0.8554 - val_loss: 1.0357 - val_acc: 0.7417\n",
      "Epoch 47/100\n",
      "185657/185657 [==============================] - 2s 12us/step - loss: 0.4616 - acc: 0.8569 - val_loss: 1.0466 - val_acc: 0.7395\n",
      "Epoch 48/100\n",
      "185657/185657 [==============================] - 2s 12us/step - loss: 0.4543 - acc: 0.8591 - val_loss: 1.0165 - val_acc: 0.7467\n",
      "Epoch 49/100\n",
      "185657/185657 [==============================] - 2s 12us/step - loss: 0.4532 - acc: 0.8592 - val_loss: 1.0305 - val_acc: 0.7440\n",
      "Epoch 50/100\n",
      "185657/185657 [==============================] - 2s 12us/step - loss: 0.4478 - acc: 0.8608 - val_loss: 1.0242 - val_acc: 0.7462\n",
      "Epoch 51/100\n",
      "185657/185657 [==============================] - 2s 12us/step - loss: 0.4442 - acc: 0.8624 - val_loss: 1.0266 - val_acc: 0.7469\n",
      "Epoch 52/100\n",
      "185657/185657 [==============================] - 2s 12us/step - loss: 0.4464 - acc: 0.8617 - val_loss: 1.0392 - val_acc: 0.7436\n",
      "Epoch 53/100\n",
      "185657/185657 [==============================] - 2s 12us/step - loss: 0.4383 - acc: 0.8638 - val_loss: 1.0268 - val_acc: 0.7501\n",
      "Epoch 54/100\n",
      "185657/185657 [==============================] - 2s 12us/step - loss: 0.4421 - acc: 0.8628 - val_loss: 1.0404 - val_acc: 0.7410\n",
      "Epoch 55/100\n",
      "185657/185657 [==============================] - 2s 12us/step - loss: 0.4347 - acc: 0.8652 - val_loss: 1.0239 - val_acc: 0.7504\n",
      "Epoch 56/100\n",
      "185657/185657 [==============================] - 2s 12us/step - loss: 0.4325 - acc: 0.8660 - val_loss: 1.0272 - val_acc: 0.7493\n",
      "Epoch 57/100\n",
      "185657/185657 [==============================] - 2s 12us/step - loss: 0.4342 - acc: 0.8660 - val_loss: 1.0255 - val_acc: 0.7501\n",
      "Epoch 58/100\n",
      "185657/185657 [==============================] - 2s 12us/step - loss: 0.4223 - acc: 0.8690 - val_loss: 1.0199 - val_acc: 0.7519\n"
     ]
    },
    {
     "name": "stdout",
     "output_type": "stream",
     "text": [
      "Epoch 59/100\n",
      "185657/185657 [==============================] - 2s 12us/step - loss: 0.4160 - acc: 0.8699 - val_loss: 1.0615 - val_acc: 0.7445\n",
      "Epoch 60/100\n",
      "185657/185657 [==============================] - 2s 12us/step - loss: 0.4160 - acc: 0.8703 - val_loss: 1.0329 - val_acc: 0.7484\n",
      "Epoch 61/100\n",
      "185657/185657 [==============================] - 2s 12us/step - loss: 0.4130 - acc: 0.8710 - val_loss: 1.0278 - val_acc: 0.7524\n",
      "Epoch 62/100\n",
      "185657/185657 [==============================] - 2s 12us/step - loss: 0.4152 - acc: 0.8711 - val_loss: 1.0142 - val_acc: 0.7531\n",
      "Epoch 63/100\n",
      "185657/185657 [==============================] - 2s 12us/step - loss: 0.4142 - acc: 0.8713 - val_loss: 1.0405 - val_acc: 0.7490\n",
      "Epoch 64/100\n",
      "185657/185657 [==============================] - 2s 12us/step - loss: 0.4114 - acc: 0.8718 - val_loss: 1.0146 - val_acc: 0.7570\n",
      "Epoch 65/100\n",
      "185657/185657 [==============================] - 2s 12us/step - loss: 0.4055 - acc: 0.8740 - val_loss: 1.0619 - val_acc: 0.7455\n",
      "Epoch 66/100\n",
      "185657/185657 [==============================] - 2s 12us/step - loss: 0.4089 - acc: 0.8743 - val_loss: 1.0759 - val_acc: 0.7394\n",
      "Epoch 67/100\n",
      "185657/185657 [==============================] - 2s 12us/step - loss: 0.4018 - acc: 0.8746 - val_loss: 1.0186 - val_acc: 0.7532\n",
      "Epoch 68/100\n",
      "185657/185657 [==============================] - 2s 12us/step - loss: 0.3960 - acc: 0.8774 - val_loss: 1.0192 - val_acc: 0.7557\n",
      "Epoch 69/100\n",
      "185657/185657 [==============================] - 2s 12us/step - loss: 0.3901 - acc: 0.8786 - val_loss: 1.0271 - val_acc: 0.7508\n",
      "Epoch 70/100\n",
      "185657/185657 [==============================] - 2s 12us/step - loss: 0.3879 - acc: 0.8795 - val_loss: 1.0435 - val_acc: 0.7500\n",
      "Epoch 71/100\n",
      "185657/185657 [==============================] - 2s 12us/step - loss: 0.3941 - acc: 0.8767 - val_loss: 1.0357 - val_acc: 0.7533\n",
      "Epoch 72/100\n",
      "185657/185657 [==============================] - 2s 12us/step - loss: 0.3904 - acc: 0.8781 - val_loss: 1.0272 - val_acc: 0.7564\n",
      "Epoch 73/100\n",
      "185657/185657 [==============================] - 2s 12us/step - loss: 0.3861 - acc: 0.8796 - val_loss: 1.0261 - val_acc: 0.7580\n",
      "Epoch 74/100\n",
      "185657/185657 [==============================] - 2s 12us/step - loss: 0.3819 - acc: 0.8809 - val_loss: 1.0270 - val_acc: 0.7574\n",
      "Epoch 75/100\n",
      "185657/185657 [==============================] - 2s 12us/step - loss: 0.3892 - acc: 0.8789 - val_loss: 1.0436 - val_acc: 0.7521\n",
      "Epoch 76/100\n",
      "185657/185657 [==============================] - 2s 12us/step - loss: 0.3808 - acc: 0.8806 - val_loss: 1.0494 - val_acc: 0.7531\n",
      "Epoch 77/100\n",
      "185657/185657 [==============================] - 2s 12us/step - loss: 0.3826 - acc: 0.8805 - val_loss: 1.0610 - val_acc: 0.7508\n",
      "Epoch 78/100\n",
      "185657/185657 [==============================] - 2s 12us/step - loss: 0.3783 - acc: 0.8813 - val_loss: 1.0506 - val_acc: 0.7493\n",
      "Epoch 79/100\n",
      "185657/185657 [==============================] - 2s 12us/step - loss: 0.3744 - acc: 0.8828 - val_loss: 1.0796 - val_acc: 0.7467\n",
      "Epoch 80/100\n",
      "185657/185657 [==============================] - 2s 12us/step - loss: 0.3716 - acc: 0.8834 - val_loss: 1.0389 - val_acc: 0.7555\n",
      "Epoch 81/100\n",
      "185657/185657 [==============================] - 2s 12us/step - loss: 0.3799 - acc: 0.8824 - val_loss: 1.0486 - val_acc: 0.7522\n",
      "Epoch 82/100\n",
      "185657/185657 [==============================] - 2s 12us/step - loss: 0.3698 - acc: 0.8845 - val_loss: 1.0443 - val_acc: 0.7538\n",
      "Epoch 83/100\n",
      "185657/185657 [==============================] - 2s 12us/step - loss: 0.3669 - acc: 0.8849 - val_loss: 1.0235 - val_acc: 0.7590\n",
      "Epoch 84/100\n",
      "185657/185657 [==============================] - 2s 12us/step - loss: 0.3708 - acc: 0.8836 - val_loss: 1.0435 - val_acc: 0.7543\n",
      "Epoch 85/100\n",
      "185657/185657 [==============================] - 2s 12us/step - loss: 0.3709 - acc: 0.8847 - val_loss: 1.0472 - val_acc: 0.7554\n",
      "Epoch 86/100\n",
      "185657/185657 [==============================] - 2s 12us/step - loss: 0.3587 - acc: 0.8866 - val_loss: 1.0604 - val_acc: 0.7509\n",
      "Epoch 87/100\n",
      "185657/185657 [==============================] - 2s 12us/step - loss: 0.3703 - acc: 0.8846 - val_loss: 1.0773 - val_acc: 0.7472\n",
      "Epoch 88/100\n",
      "185657/185657 [==============================] - 2s 12us/step - loss: 0.3605 - acc: 0.8876 - val_loss: 1.0646 - val_acc: 0.7529\n",
      "Epoch 89/100\n",
      "185657/185657 [==============================] - 2s 12us/step - loss: 0.3567 - acc: 0.8884 - val_loss: 1.0389 - val_acc: 0.7578\n",
      "Epoch 90/100\n",
      "185657/185657 [==============================] - 2s 12us/step - loss: 0.3562 - acc: 0.8882 - val_loss: 1.0467 - val_acc: 0.7579\n",
      "Epoch 91/100\n",
      "185657/185657 [==============================] - 2s 12us/step - loss: 0.3539 - acc: 0.8895 - val_loss: 1.0625 - val_acc: 0.7540\n",
      "Epoch 92/100\n",
      "185657/185657 [==============================] - 2s 12us/step - loss: 0.3570 - acc: 0.8877 - val_loss: 1.0521 - val_acc: 0.7576\n",
      "Epoch 93/100\n",
      "185657/185657 [==============================] - 2s 12us/step - loss: 0.3495 - acc: 0.8903 - val_loss: 1.0459 - val_acc: 0.7576\n",
      "Epoch 94/100\n",
      "185657/185657 [==============================] - 2s 12us/step - loss: 0.3532 - acc: 0.8889 - val_loss: 1.0444 - val_acc: 0.7591\n",
      "Epoch 95/100\n",
      "185657/185657 [==============================] - 2s 12us/step - loss: 0.3512 - acc: 0.8907 - val_loss: 1.0416 - val_acc: 0.7584\n",
      "Epoch 96/100\n",
      "185657/185657 [==============================] - 2s 12us/step - loss: 0.3495 - acc: 0.8901 - val_loss: 1.0426 - val_acc: 0.7586\n",
      "Epoch 97/100\n",
      "185657/185657 [==============================] - 2s 12us/step - loss: 0.3489 - acc: 0.8909 - val_loss: 1.0371 - val_acc: 0.7596\n",
      "Epoch 98/100\n",
      "185657/185657 [==============================] - 2s 12us/step - loss: 0.3466 - acc: 0.8917 - val_loss: 1.0660 - val_acc: 0.7551\n",
      "Epoch 99/100\n",
      "185657/185657 [==============================] - 2s 12us/step - loss: 0.3494 - acc: 0.8909 - val_loss: 1.0587 - val_acc: 0.7566\n",
      "Epoch 100/100\n",
      "185657/185657 [==============================] - 2s 12us/step - loss: 0.3432 - acc: 0.8929 - val_loss: 1.0345 - val_acc: 0.7618\n"
     ]
    }
   ],
   "source": [
    "if args.loadmodel=='none':\n",
    "  model.compile(loss='categorical_crossentropy', \n",
    "              optimizer='adam', metrics=['accuracy'])\n",
    "  hist = model.fit(x=learn_features, y=learn_labels,\n",
    "          batch_size=batchsize, epochs=n_epoch,\n",
    "          validation_data=(valid_features,valid_labels))"
   ]
  },
  {
   "cell_type": "markdown",
   "metadata": {},
   "source": [
    "## モデルの保存と学習曲線の表示"
   ]
  },
  {
   "cell_type": "code",
   "execution_count": 6,
   "metadata": {},
   "outputs": [
    {
     "data": {
      "image/png": "[encoded data removed]",
      "text/plain": [
       "<matplotlib.figure.Figure at 0x7f53e03fd7b8>"
      ]
     },
     "metadata": {},
     "output_type": "display_data"
    },
    {
     "data": {
      "image/png": "[encoded data removed]",
      "text/plain": [
       "<matplotlib.figure.Figure at 0x7f53983e4a20>"
      ]
     },
     "metadata": {},
     "output_type": "display_data"
    }
   ],
   "source": [
    "#モデルの保存\n",
    "if args.savemodel != 'none':\n",
    "  model.save(args.savemodel)\n",
    "\n",
    "if args.loadmodel=='none':\n",
    "  #loss\n",
    "  loss = hist.history[\"loss\"]\n",
    "  val_loss = hist.history[\"val_loss\"]\n",
    "  fig = plt.figure()\n",
    "  plt.plot(range(len(loss)), loss, \"bo\", color=\"r\", label=\"Training loss\")\n",
    "  plt.plot(range(len(val_loss)), val_loss, \"bo\", color=\"b\", label=\"validing loss\")\n",
    "  plt.xlabel(\"epochs\")\n",
    "  plt.title(\"loss\")\n",
    "\n",
    "  #acc\n",
    "  acc = hist.history[\"acc\"]\n",
    "  val_acc = hist.history[\"val_acc\"]\n",
    "  fig = plt.figure()\n",
    "  plt.ylim(0,1)\n",
    "  plt.plot(range(len(acc)), acc, \"bo\", color=\"r\", label=\"Training acc\")\n",
    "  plt.plot(range(len(val_acc)), val_acc, \"bo\", color=\"b\", label=\"validing acc\")\n",
    "  plt.xlabel(\"epochs\")\n",
    "  plt.title(\"acc\")"
   ]
  },
  {
   "cell_type": "markdown",
   "metadata": {},
   "source": [
    "## フレームレベルの評価"
   ]
  },
  {
   "cell_type": "code",
   "execution_count": 7,
   "metadata": {},
   "outputs": [
    {
     "name": "stdout",
     "output_type": "stream",
     "text": [
      "trainset error rate\n",
      "3.249540819899061\n",
      "validset error rate\n",
      "23.822446815147543\n",
      "testset error rate\n",
      "23.48437163783218\n"
     ]
    }
   ],
   "source": [
    "#学習データ\n",
    "predict = model.predict_classes(learn_features)\n",
    "print(\"trainset error rate\")\n",
    "print(sum(predict != np.argmax(learn_labels, axis=1))/ len(learn_labels)*100)\n",
    "\n",
    "predict = model.predict_classes(valid_features)\n",
    "print(\"validset error rate\")\n",
    "print(sum(predict != np.argmax(valid_labels, axis=1))/ len(valid_labels)*100)\n",
    "\n",
    "predict = model.predict_classes(test_features)\n",
    "print(\"testset error rate\")\n",
    "print(sum(predict != np.argmax(test_labels, axis=1))/ len(test_labels)*100)"
   ]
  },
  {
   "cell_type": "code",
   "execution_count": null,
   "metadata": {},
   "outputs": [],
   "source": []
  },
  {
   "cell_type": "code",
   "execution_count": null,
   "metadata": {},
   "outputs": [],
   "source": []
  }
 ],
 "metadata": {
  "kernelspec": {
   "display_name": "Python 3",
   "language": "python",
   "name": "python3"
  },
  "language_info": {
   "codemirror_mode": {
    "name": "ipython",
    "version": 3
   },
   "file_extension": ".py",
   "mimetype": "text/x-python",
   "name": "python",
   "nbconvert_exporter": "python",
   "pygments_lexer": "ipython3",
   "version": "3.6.4"
  }
 },
 "nbformat": 4,
 "nbformat_minor": 2
}
