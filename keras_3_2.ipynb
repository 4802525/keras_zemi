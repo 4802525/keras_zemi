{
 "cells": [
  {
   "cell_type": "markdown",
   "metadata": {},
   "source": [
    "# kerasを使って話者識別モデルを作ろう\n",
    "データベース：  \n",
    "科警研DB 話者99人  \n",
    "発話内容 ATR音素バランス文A50文  \n",
    "  \n",
    "実験：  \n",
    "発話レベルの認識  \n",
    "発話内容open  \n",
    " A01-A05の5文で学習，A06-A10の5文で検証，A11-A50の40文で評価  \n",
    "特徴量  \n",
    " 対数MFB40bin×7フレーム"
   ]
  },
  {
   "cell_type": "markdown",
   "metadata": {},
   "source": [
    "## ライブラリなどの準備"
   ]
  },
  {
   "cell_type": "code",
   "execution_count": 1,
   "metadata": {},
   "outputs": [
    {
     "name": "stderr",
     "output_type": "stream",
     "text": [
      "Using TensorFlow backend.\n"
     ]
    }
   ],
   "source": [
    "#ライブラリ群\n",
    "import argparse\n",
    "import numpy as np\n",
    "from numpy.random import *\n",
    "from tqdm import tqdm_notebook as tqdm\n",
    "import keras\n",
    "from keras.models import Sequential, load_model\n",
    "from keras.initializers import TruncatedNormal\n",
    "from keras.layers import Activation, Dense, Dropout\n",
    "from keras.utils import np_utils\n",
    "import tensorflow as tf\n",
    "from keras import backend as K\n",
    "import matplotlib.pyplot as plt\n",
    "%matplotlib inline\n",
    "#matplotlib.use(\"Agg\")\n",
    "\n",
    "#プログラムの引数\n",
    "# parser = argparse.ArgumentParser(description=\"Speaker Varification\")\n",
    "\n",
    "# parser.add_argument( '--gpu', '-g', default = \"0\", type = str,\n",
    "#                     help = 'GPU ID')\n",
    "# parser.add_argument( '--gpu_use', '-gu', default = 0.1, type = float,\n",
    "#                     help = 'GPU use rate')\n",
    "# parser.add_argument( '--list_directory', '-ld', default=\"/net/venus/research3/B4system2019/keras_zemi/kakeiken/list\",\n",
    "#                     help = 'list directory')\n",
    "# parser.add_argument( '--learn_input', '-li', default=\"mfb40_learn.lst\",\n",
    "#                     help = 'learn set')\n",
    "# parser.add_argument( '--valid_input', '-vi', default=\"mfb40_valid.lst\",\n",
    "#                     help = 'valid set')\n",
    "# parser.add_argument( '--test_input', '-ti', default=\"mfb40_test.lst\",\n",
    "#                     help = 'test set')\n",
    "# parser.add_argument( '--input_node', '-in', default=40, type=int,\n",
    "#                     help = 'number of input node')\n",
    "# parser.add_argument( '--num_frame', '-nf', default=7, type=int,\n",
    "#                     help = number of input frame)\n",
    "# parser.add_argument( '--output_node', '-on', default=99, type=int,\n",
    "#                     help = 'number of output node')\n",
    "# parser.add_argument( '--batch', '-b', default=1000, type=int,\n",
    "#                     help = 'learning minibatch size')\n",
    "# parser.add_argument( '--epoch', '-e', default=100, type=int,\n",
    "#                     help = 'number of epochs to learn')\n",
    "# parser.add_argument( '--savemodel', '-sm', default='none',\n",
    "#                     help = 'model file')\n",
    "# parser.add_argument( '--loadmodel', '-lm', default='none',\n",
    "#                     help = 'model file')\n",
    "# args = parser.parse_args()\n",
    "\n",
    "#parserの代わり\n",
    "class Argument:\n",
    "  gpu = \"0\"\n",
    "  gpu_use=0.1\n",
    "  list_directory = \"/net/venus/research3/B4system2019/keras_zemi/kakeiken/list\"\n",
    "  learn_input = \"mfb40_learn.lst\"\n",
    "  valid_input = \"mfb40_valid.lst\"\n",
    "  test_input = \"mfb40_test.lst\"\n",
    "  input_node = 40\n",
    "  num_frame = 7\n",
    "  output_node = 99\n",
    "  batch = 1000\n",
    "  epoch = 100\n",
    "  savemodel = 'none'\n",
    "  loadmodel = 'none'\n",
    "\n",
    "args = Argument\n",
    "\n",
    "config = tf.ConfigProto(\n",
    "  gpu_options = tf.GPUOptions(\n",
    "    visible_device_list=args.gpu,\n",
    "    per_process_gpu_memory_fraction=args.gpu_use\n",
    "  )\n",
    ")\n",
    "sess = tf.Session(config=config)\n",
    "K.set_session(sess)\n",
    "\n",
    "batchsize = args.batch\n",
    "n_input = args.input_node\n",
    "n_frame = args.num_frame\n",
    "n_output = args.output_node\n",
    "n_epoch = args.epoch"
   ]
  },
  {
   "cell_type": "markdown",
   "metadata": {},
   "source": [
    "## 関数の準備\n",
    "### file_read:リストファイルを読み込んでラベルと特徴量を返す\n",
    "labels:1フレームごとのone-hotラベル  \n",
    "features:1フレームごとの特徴量  \n",
    "### file_read_to_lst:リストファイルを読み込んで発話ごと(リストで管理)のラベルと特徴量を返す\n",
    "label_lst:1発声ごとのラベル(one-hotではない)  \n",
    "feature_lst:1発声ごとにリスト化された1フレームごとの特徴量 \n",
    "### nomalization:正規化処理を行う\n",
    "各次元で学習データの平均分散を計算し，それを用いて正規化(標準化)を行う．\n",
    "### eval:発話レベルの評価を行う"
   ]
  },
  {
   "cell_type": "code",
   "execution_count": 2,
   "metadata": {},
   "outputs": [],
   "source": [
    "def file_read(lstfile):\n",
    "  features_lst=[]\n",
    "  labels_lst=[]\n",
    "    \n",
    "  with open(lstfile) as fp:\n",
    "    for data in tqdm(fp):\n",
    "      tmp = np.load(data.rstrip())\n",
    "      #前後無音が入っているのでその部分は除去\n",
    "      x = tmp['feature'][10:-40]\n",
    "      y = tmp['label'][10:-40]\n",
    "      i = 0\n",
    "        \n",
    "      #n_frame結合し，リストに格納\n",
    "      for i in range(len(x) - n_frame):\n",
    "        x_ = x[i:i+n_frame].reshape(n_input*n_frame)\n",
    "        features_lst.append(x_)\n",
    "        labels_lst.append(y[0])\n",
    "\n",
    "  labels = np.array(np_utils.to_categorical(labels_lst), dtype = np.int32)\n",
    "  features = np.array(features_lst, dtype = np.float32)\n",
    "  return labels, features\n",
    "\n",
    "def file_read_to_lst(lstfile):\n",
    "  feature_lst = []\n",
    "  label_lst = []\n",
    "  with open(lstfile) as fp:\n",
    "    for data in tqdm(fp):\n",
    "      #前後無音が入っているのでその部分は除去\n",
    "      tmp = np.load(data.rstrip())\n",
    "      x = tmp['feature'][10:-40]\n",
    "      y = tmp['label'][10:-40]\n",
    "      i = 0\n",
    "      f_lst = []\n",
    "        \n",
    "      #n_frame結合し，リストに格納\n",
    "      for i in range(len(x) - n_frame):\n",
    "        x_ = x[i:i+n_frame].reshape(n_input*n_frame)\n",
    "        f_lst.append(x_)\n",
    "        \n",
    "      label_lst.append(y[0])\n",
    "      f = np.array(f_lst, dtype=np.float32)\n",
    "      feature_lst.append(f)\n",
    "  return label_lst, feature_lst\n",
    "            \n",
    "def nomalization(features, feature_lst, mean, std):\n",
    "  features=(features-mean)/std\n",
    "  feature_lst = [ (feats-mean)/std for feats in feature_lst]\n",
    "  return features, feature_lst\n",
    "\n",
    "def eval(feature_lst, label_lst, model):\n",
    "  pred_lst = []\n",
    "  for feat in tqdm(feature_lst):\n",
    "    pred = np.argmax(np.sum(np.log(model.predict(feat)),axis=0))\n",
    "    pred_lst.append(pred)\n",
    "  labels = np.array(label_lst,dtype=int)\n",
    "  preds = np.array(pred_lst,dtype=int)\n",
    "  err_rate = float(sum(labels != preds)/len(labels)*100.0)\n",
    "  return err_rate"
   ]
  },
  {
   "cell_type": "markdown",
   "metadata": {},
   "source": [
    "## データ読み込み"
   ]
  },
  {
   "cell_type": "code",
   "execution_count": 3,
   "metadata": {},
   "outputs": [
    {
     "name": "stdout",
     "output_type": "stream",
     "text": [
      "learn data loding\n"
     ]
    },
    {
     "data": {
      "application/vnd.jupyter.widget-view+json": {
       "model_id": "85289493da374c279b95e467f1cdfc85",
       "version_major": 2,
       "version_minor": 0
      },
      "text/html": [
       "<p>Failed to display Jupyter Widget of type <code>HBox</code>.</p>\n",
       "<p>\n",
       "  If you're reading this message in the Jupyter Notebook or JupyterLab Notebook, it may mean\n",
       "  that the widgets JavaScript is still loading. If this message persists, it\n",
       "  likely means that the widgets JavaScript library is either not installed or\n",
       "  not enabled. See the <a href=\"https://ipywidgets.readthedocs.io/en/stable/user_install.html\">Jupyter\n",
       "  Widgets Documentation</a> for setup instructions.\n",
       "</p>\n",
       "<p>\n",
       "  If you're reading this message in another frontend (for example, a static\n",
       "  rendering on GitHub or <a href=\"https://nbviewer.jupyter.org/\">NBViewer</a>),\n",
       "  it may mean that your frontend doesn't currently support widgets.\n",
       "</p>\n"
      ],
      "text/plain": [
       "HBox(children=(IntProgress(value=1, bar_style='info', max=1), HTML(value='')))"
      ]
     },
     "metadata": {},
     "output_type": "display_data"
    },
    {
     "name": "stdout",
     "output_type": "stream",
     "text": [
      "\n"
     ]
    },
    {
     "data": {
      "application/vnd.jupyter.widget-view+json": {
       "model_id": "f2f12f3797c24bfebf1c1149f00499cf",
       "version_major": 2,
       "version_minor": 0
      },
      "text/html": [
       "<p>Failed to display Jupyter Widget of type <code>HBox</code>.</p>\n",
       "<p>\n",
       "  If you're reading this message in the Jupyter Notebook or JupyterLab Notebook, it may mean\n",
       "  that the widgets JavaScript is still loading. If this message persists, it\n",
       "  likely means that the widgets JavaScript library is either not installed or\n",
       "  not enabled. See the <a href=\"https://ipywidgets.readthedocs.io/en/stable/user_install.html\">Jupyter\n",
       "  Widgets Documentation</a> for setup instructions.\n",
       "</p>\n",
       "<p>\n",
       "  If you're reading this message in another frontend (for example, a static\n",
       "  rendering on GitHub or <a href=\"https://nbviewer.jupyter.org/\">NBViewer</a>),\n",
       "  it may mean that your frontend doesn't currently support widgets.\n",
       "</p>\n"
      ],
      "text/plain": [
       "HBox(children=(IntProgress(value=1, bar_style='info', max=1), HTML(value='')))"
      ]
     },
     "metadata": {},
     "output_type": "display_data"
    },
    {
     "name": "stdout",
     "output_type": "stream",
     "text": [
      "\n",
      "valid data loding\n"
     ]
    },
    {
     "data": {
      "application/vnd.jupyter.widget-view+json": {
       "model_id": "208abc7c0489411f8c93f3979e85ee43",
       "version_major": 2,
       "version_minor": 0
      },
      "text/html": [
       "<p>Failed to display Jupyter Widget of type <code>HBox</code>.</p>\n",
       "<p>\n",
       "  If you're reading this message in the Jupyter Notebook or JupyterLab Notebook, it may mean\n",
       "  that the widgets JavaScript is still loading. If this message persists, it\n",
       "  likely means that the widgets JavaScript library is either not installed or\n",
       "  not enabled. See the <a href=\"https://ipywidgets.readthedocs.io/en/stable/user_install.html\">Jupyter\n",
       "  Widgets Documentation</a> for setup instructions.\n",
       "</p>\n",
       "<p>\n",
       "  If you're reading this message in another frontend (for example, a static\n",
       "  rendering on GitHub or <a href=\"https://nbviewer.jupyter.org/\">NBViewer</a>),\n",
       "  it may mean that your frontend doesn't currently support widgets.\n",
       "</p>\n"
      ],
      "text/plain": [
       "HBox(children=(IntProgress(value=1, bar_style='info', max=1), HTML(value='')))"
      ]
     },
     "metadata": {},
     "output_type": "display_data"
    },
    {
     "name": "stdout",
     "output_type": "stream",
     "text": [
      "\n"
     ]
    },
    {
     "data": {
      "application/vnd.jupyter.widget-view+json": {
       "model_id": "4ebf062b2bfb44519a0a8a9d2438ea93",
       "version_major": 2,
       "version_minor": 0
      },
      "text/html": [
       "<p>Failed to display Jupyter Widget of type <code>HBox</code>.</p>\n",
       "<p>\n",
       "  If you're reading this message in the Jupyter Notebook or JupyterLab Notebook, it may mean\n",
       "  that the widgets JavaScript is still loading. If this message persists, it\n",
       "  likely means that the widgets JavaScript library is either not installed or\n",
       "  not enabled. See the <a href=\"https://ipywidgets.readthedocs.io/en/stable/user_install.html\">Jupyter\n",
       "  Widgets Documentation</a> for setup instructions.\n",
       "</p>\n",
       "<p>\n",
       "  If you're reading this message in another frontend (for example, a static\n",
       "  rendering on GitHub or <a href=\"https://nbviewer.jupyter.org/\">NBViewer</a>),\n",
       "  it may mean that your frontend doesn't currently support widgets.\n",
       "</p>\n"
      ],
      "text/plain": [
       "HBox(children=(IntProgress(value=1, bar_style='info', max=1), HTML(value='')))"
      ]
     },
     "metadata": {},
     "output_type": "display_data"
    },
    {
     "name": "stdout",
     "output_type": "stream",
     "text": [
      "\n",
      "test data loding\n"
     ]
    },
    {
     "data": {
      "application/vnd.jupyter.widget-view+json": {
       "model_id": "e8813a750314496f90a66cca87b8f051",
       "version_major": 2,
       "version_minor": 0
      },
      "text/html": [
       "<p>Failed to display Jupyter Widget of type <code>HBox</code>.</p>\n",
       "<p>\n",
       "  If you're reading this message in the Jupyter Notebook or JupyterLab Notebook, it may mean\n",
       "  that the widgets JavaScript is still loading. If this message persists, it\n",
       "  likely means that the widgets JavaScript library is either not installed or\n",
       "  not enabled. See the <a href=\"https://ipywidgets.readthedocs.io/en/stable/user_install.html\">Jupyter\n",
       "  Widgets Documentation</a> for setup instructions.\n",
       "</p>\n",
       "<p>\n",
       "  If you're reading this message in another frontend (for example, a static\n",
       "  rendering on GitHub or <a href=\"https://nbviewer.jupyter.org/\">NBViewer</a>),\n",
       "  it may mean that your frontend doesn't currently support widgets.\n",
       "</p>\n"
      ],
      "text/plain": [
       "HBox(children=(IntProgress(value=1, bar_style='info', max=1), HTML(value='')))"
      ]
     },
     "metadata": {},
     "output_type": "display_data"
    },
    {
     "name": "stdout",
     "output_type": "stream",
     "text": [
      "\n"
     ]
    },
    {
     "data": {
      "application/vnd.jupyter.widget-view+json": {
       "model_id": "450779c804664145b9280e525fad32ff",
       "version_major": 2,
       "version_minor": 0
      },
      "text/html": [
       "<p>Failed to display Jupyter Widget of type <code>HBox</code>.</p>\n",
       "<p>\n",
       "  If you're reading this message in the Jupyter Notebook or JupyterLab Notebook, it may mean\n",
       "  that the widgets JavaScript is still loading. If this message persists, it\n",
       "  likely means that the widgets JavaScript library is either not installed or\n",
       "  not enabled. See the <a href=\"https://ipywidgets.readthedocs.io/en/stable/user_install.html\">Jupyter\n",
       "  Widgets Documentation</a> for setup instructions.\n",
       "</p>\n",
       "<p>\n",
       "  If you're reading this message in another frontend (for example, a static\n",
       "  rendering on GitHub or <a href=\"https://nbviewer.jupyter.org/\">NBViewer</a>),\n",
       "  it may mean that your frontend doesn't currently support widgets.\n",
       "</p>\n"
      ],
      "text/plain": [
       "HBox(children=(IntProgress(value=1, bar_style='info', max=1), HTML(value='')))"
      ]
     },
     "metadata": {},
     "output_type": "display_data"
    },
    {
     "name": "stdout",
     "output_type": "stream",
     "text": [
      "\n",
      "(185657, 99) (185657, 280)\n"
     ]
    }
   ],
   "source": [
    "#学習データ\n",
    "print(\"learn data loding\")\n",
    "lstfile = args.list_directory + \"/\" + args.learn_input\n",
    "learn_labels, learn_features = file_read(lstfile)\n",
    "learn_label_lst, learn_feature_lst = file_read_to_lst(lstfile)\n",
    "mean = np.mean(learn_features,axis=0)\n",
    "std = np.std(learn_features,axis=0)\n",
    "learn_features, learn_feature_lst = nomalization(learn_features, learn_feature_lst, mean, std)\n",
    "\n",
    "#検証データ\n",
    "print(\"valid data loding\")\n",
    "lstfile = args.list_directory + \"/\" + args.valid_input\n",
    "valid_labels, valid_features = file_read(lstfile)\n",
    "valid_label_lst, valid_feature_lst = file_read_to_lst(lstfile)\n",
    "valid_features, valid_feature_lst = nomalization(valid_features, valid_feature_lst, mean, std)\n",
    "\n",
    "#評価データ\n",
    "print(\"test data loding\")\n",
    "lstfile = args.list_directory + \"/\" + args.test_input\n",
    "test_labels, test_features = file_read(lstfile)\n",
    "test_label_lst, test_feature_lst = file_read_to_lst(lstfile)\n",
    "test_features, test_feature_lst = nomalization(test_features, test_feature_lst, mean, std)\n",
    "\n",
    "print(np.shape(learn_labels),np.shape(learn_features))"
   ]
  },
  {
   "cell_type": "markdown",
   "metadata": {},
   "source": [
    "## モデルの構築"
   ]
  },
  {
   "cell_type": "code",
   "execution_count": 4,
   "metadata": {},
   "outputs": [
    {
     "name": "stdout",
     "output_type": "stream",
     "text": [
      "_________________________________________________________________\n",
      "Layer (type)                 Output Shape              Param #   \n",
      "=================================================================\n",
      "dense_1 (Dense)              (None, 700)               196700    \n",
      "_________________________________________________________________\n",
      "activation_1 (Activation)    (None, 700)               0         \n",
      "_________________________________________________________________\n",
      "dropout_1 (Dropout)          (None, 700)               0         \n",
      "_________________________________________________________________\n",
      "dense_2 (Dense)              (None, 400)               280400    \n",
      "_________________________________________________________________\n",
      "activation_2 (Activation)    (None, 400)               0         \n",
      "_________________________________________________________________\n",
      "dropout_2 (Dropout)          (None, 400)               0         \n",
      "_________________________________________________________________\n",
      "dense_3 (Dense)              (None, 100)               40100     \n",
      "_________________________________________________________________\n",
      "activation_3 (Activation)    (None, 100)               0         \n",
      "_________________________________________________________________\n",
      "dropout_3 (Dropout)          (None, 100)               0         \n",
      "_________________________________________________________________\n",
      "dense_4 (Dense)              (None, 99)                9999      \n",
      "=================================================================\n",
      "Total params: 527,199\n",
      "Trainable params: 527,199\n",
      "Non-trainable params: 0\n",
      "_________________________________________________________________\n"
     ]
    }
   ],
   "source": [
    "#自分で作ってみよう(input_dim=n_input*n_frame)\n",
    "TN = TruncatedNormal(seed=0) #切断正規分布\n",
    "if args.loadmodel != 'none':\n",
    "  model = load_model(args.loadmodel)\n",
    "else:\n",
    "  model = Sequential([\n",
    "    Dense(700, input_dim=n_input*n_frame, kernel_initializer=TN),\n",
    "    Activation('relu'),\n",
    "    Dropout(0.2),\n",
    "    Dense(400, kernel_initializer=TN),\n",
    "    Activation('relu'),\n",
    "    Dropout(0.2),\n",
    "    Dense(100, kernel_initializer=TN),\n",
    "    Activation('relu'),\n",
    "    Dropout(0.2),\n",
    "    Dense(n_output, activation='softmax')\n",
    "  ])\n",
    "model.summary()"
   ]
  },
  {
   "cell_type": "markdown",
   "metadata": {},
   "source": [
    "## 学習"
   ]
  },
  {
   "cell_type": "code",
   "execution_count": 5,
   "metadata": {},
   "outputs": [
    {
     "name": "stdout",
     "output_type": "stream",
     "text": [
      "Train on 185657 samples, validate on 224406 samples\n",
      "Epoch 1/100\n",
      "185657/185657 [==============================] - 3s 15us/step - loss: 3.3928 - acc: 0.1986 - val_loss: 2.3899 - val_acc: 0.4112\n",
      "Epoch 2/100\n",
      "185657/185657 [==============================] - 2s 12us/step - loss: 2.1361 - acc: 0.4436 - val_loss: 1.9056 - val_acc: 0.5119\n",
      "Epoch 3/100\n",
      "185657/185657 [==============================] - 2s 12us/step - loss: 1.7340 - acc: 0.5353 - val_loss: 1.6762 - val_acc: 0.5616\n",
      "Epoch 4/100\n",
      "185657/185657 [==============================] - 2s 12us/step - loss: 1.5040 - acc: 0.5891 - val_loss: 1.5133 - val_acc: 0.5966\n",
      "Epoch 5/100\n",
      "185657/185657 [==============================] - 2s 12us/step - loss: 1.3438 - acc: 0.6272 - val_loss: 1.4219 - val_acc: 0.6202\n",
      "Epoch 6/100\n",
      "185657/185657 [==============================] - 2s 12us/step - loss: 1.2296 - acc: 0.6556 - val_loss: 1.3536 - val_acc: 0.6397\n",
      "Epoch 7/100\n",
      "185657/185657 [==============================] - 2s 12us/step - loss: 1.1483 - acc: 0.6747 - val_loss: 1.2999 - val_acc: 0.6519\n",
      "Epoch 8/100\n",
      "185657/185657 [==============================] - 2s 12us/step - loss: 1.0683 - acc: 0.6943 - val_loss: 1.2384 - val_acc: 0.6680\n",
      "Epoch 9/100\n",
      "185657/185657 [==============================] - 2s 12us/step - loss: 1.0191 - acc: 0.7070 - val_loss: 1.2428 - val_acc: 0.6642\n",
      "Epoch 10/100\n",
      "185657/185657 [==============================] - 2s 12us/step - loss: 0.9593 - acc: 0.7221 - val_loss: 1.2003 - val_acc: 0.6751\n",
      "Epoch 11/100\n",
      "185657/185657 [==============================] - 2s 12us/step - loss: 0.9222 - acc: 0.7309 - val_loss: 1.1579 - val_acc: 0.6866\n",
      "Epoch 12/100\n",
      "185657/185657 [==============================] - 2s 12us/step - loss: 0.8771 - acc: 0.7438 - val_loss: 1.1354 - val_acc: 0.6938\n",
      "Epoch 13/100\n",
      "185657/185657 [==============================] - 2s 12us/step - loss: 0.8385 - acc: 0.7538 - val_loss: 1.1365 - val_acc: 0.6930\n",
      "Epoch 14/100\n",
      "185657/185657 [==============================] - 2s 12us/step - loss: 0.8096 - acc: 0.7613 - val_loss: 1.0909 - val_acc: 0.7069\n",
      "Epoch 15/100\n",
      "185657/185657 [==============================] - 2s 12us/step - loss: 0.7855 - acc: 0.7679 - val_loss: 1.1064 - val_acc: 0.7030\n",
      "Epoch 16/100\n",
      "185657/185657 [==============================] - 2s 12us/step - loss: 0.7568 - acc: 0.7749 - val_loss: 1.0866 - val_acc: 0.7088\n",
      "Epoch 17/100\n",
      "185657/185657 [==============================] - 2s 12us/step - loss: 0.7422 - acc: 0.7787 - val_loss: 1.0762 - val_acc: 0.7119\n",
      "Epoch 18/100\n",
      "185657/185657 [==============================] - 2s 12us/step - loss: 0.7156 - acc: 0.7857 - val_loss: 1.0611 - val_acc: 0.7157\n",
      "Epoch 19/100\n",
      "185657/185657 [==============================] - 2s 12us/step - loss: 0.7001 - acc: 0.7911 - val_loss: 1.0824 - val_acc: 0.7120\n",
      "Epoch 20/100\n",
      "185657/185657 [==============================] - 2s 12us/step - loss: 0.6799 - acc: 0.7961 - val_loss: 1.0448 - val_acc: 0.7205\n",
      "Epoch 21/100\n",
      "185657/185657 [==============================] - 2s 12us/step - loss: 0.6677 - acc: 0.8001 - val_loss: 1.0472 - val_acc: 0.7218\n",
      "Epoch 22/100\n",
      "185657/185657 [==============================] - 2s 12us/step - loss: 0.6517 - acc: 0.8037 - val_loss: 1.0554 - val_acc: 0.7201\n",
      "Epoch 23/100\n",
      "185657/185657 [==============================] - 2s 12us/step - loss: 0.6402 - acc: 0.8071 - val_loss: 1.0691 - val_acc: 0.7168\n",
      "Epoch 24/100\n",
      "185657/185657 [==============================] - 2s 12us/step - loss: 0.6306 - acc: 0.8083 - val_loss: 1.0710 - val_acc: 0.7180\n",
      "Epoch 25/100\n",
      "185657/185657 [==============================] - 2s 12us/step - loss: 0.6120 - acc: 0.8153 - val_loss: 1.0251 - val_acc: 0.7314\n",
      "Epoch 26/100\n",
      "185657/185657 [==============================] - 2s 12us/step - loss: 0.6092 - acc: 0.8157 - val_loss: 1.0221 - val_acc: 0.7307\n",
      "Epoch 27/100\n",
      "185657/185657 [==============================] - 2s 12us/step - loss: 0.5953 - acc: 0.8189 - val_loss: 1.0227 - val_acc: 0.7324\n",
      "Epoch 28/100\n",
      "185657/185657 [==============================] - 2s 12us/step - loss: 0.5808 - acc: 0.8231 - val_loss: 1.0218 - val_acc: 0.7318\n",
      "Epoch 29/100\n",
      "185657/185657 [==============================] - 2s 12us/step - loss: 0.5723 - acc: 0.8264 - val_loss: 1.0196 - val_acc: 0.7352\n",
      "Epoch 30/100\n",
      "185657/185657 [==============================] - 2s 12us/step - loss: 0.5638 - acc: 0.8287 - val_loss: 1.0169 - val_acc: 0.7355\n",
      "Epoch 31/100\n",
      "185657/185657 [==============================] - 2s 12us/step - loss: 0.5552 - acc: 0.8316 - val_loss: 1.0277 - val_acc: 0.7351\n",
      "Epoch 32/100\n",
      "185657/185657 [==============================] - 2s 12us/step - loss: 0.5472 - acc: 0.8332 - val_loss: 1.0297 - val_acc: 0.7330\n",
      "Epoch 33/100\n",
      "185657/185657 [==============================] - 2s 12us/step - loss: 0.5425 - acc: 0.8336 - val_loss: 1.0188 - val_acc: 0.7390\n",
      "Epoch 34/100\n",
      "185657/185657 [==============================] - 2s 12us/step - loss: 0.5349 - acc: 0.8354 - val_loss: 1.0258 - val_acc: 0.7356\n",
      "Epoch 35/100\n",
      "185657/185657 [==============================] - 2s 12us/step - loss: 0.5263 - acc: 0.8395 - val_loss: 1.0101 - val_acc: 0.7424\n",
      "Epoch 36/100\n",
      "185657/185657 [==============================] - 2s 12us/step - loss: 0.5204 - acc: 0.8399 - val_loss: 1.0151 - val_acc: 0.7404\n",
      "Epoch 37/100\n",
      "185657/185657 [==============================] - 2s 12us/step - loss: 0.5121 - acc: 0.8433 - val_loss: 1.0242 - val_acc: 0.7344\n",
      "Epoch 38/100\n",
      "185657/185657 [==============================] - 2s 12us/step - loss: 0.5127 - acc: 0.8424 - val_loss: 1.0105 - val_acc: 0.7428\n",
      "Epoch 39/100\n",
      "185657/185657 [==============================] - 2s 12us/step - loss: 0.4981 - acc: 0.8465 - val_loss: 0.9976 - val_acc: 0.7448\n",
      "Epoch 40/100\n",
      "185657/185657 [==============================] - 2s 12us/step - loss: 0.4966 - acc: 0.8475 - val_loss: 1.0086 - val_acc: 0.7434\n",
      "Epoch 41/100\n",
      "185657/185657 [==============================] - 2s 12us/step - loss: 0.4895 - acc: 0.8486 - val_loss: 1.0185 - val_acc: 0.7403\n",
      "Epoch 42/100\n",
      "185657/185657 [==============================] - 2s 12us/step - loss: 0.4900 - acc: 0.8495 - val_loss: 1.0057 - val_acc: 0.7454\n",
      "Epoch 43/100\n",
      "185657/185657 [==============================] - 2s 12us/step - loss: 0.4807 - acc: 0.8514 - val_loss: 1.0273 - val_acc: 0.7399\n",
      "Epoch 44/100\n",
      "185657/185657 [==============================] - 2s 12us/step - loss: 0.4802 - acc: 0.8521 - val_loss: 1.0223 - val_acc: 0.7439\n",
      "Epoch 45/100\n",
      "185657/185657 [==============================] - 2s 12us/step - loss: 0.4697 - acc: 0.8544 - val_loss: 1.0102 - val_acc: 0.7463\n",
      "Epoch 46/100\n",
      "185657/185657 [==============================] - 2s 12us/step - loss: 0.4727 - acc: 0.8545 - val_loss: 1.0229 - val_acc: 0.7434\n",
      "Epoch 47/100\n",
      "185657/185657 [==============================] - 2s 12us/step - loss: 0.4663 - acc: 0.8563 - val_loss: 1.0108 - val_acc: 0.7458\n",
      "Epoch 48/100\n",
      "185657/185657 [==============================] - 2s 12us/step - loss: 0.4588 - acc: 0.8590 - val_loss: 0.9953 - val_acc: 0.7504\n",
      "Epoch 49/100\n",
      "185657/185657 [==============================] - 2s 12us/step - loss: 0.4595 - acc: 0.8583 - val_loss: 1.0272 - val_acc: 0.7437\n",
      "Epoch 50/100\n",
      "185657/185657 [==============================] - 2s 12us/step - loss: 0.4500 - acc: 0.8612 - val_loss: 1.0083 - val_acc: 0.7482\n",
      "Epoch 51/100\n",
      "185657/185657 [==============================] - 2s 12us/step - loss: 0.4482 - acc: 0.8613 - val_loss: 0.9979 - val_acc: 0.7506\n",
      "Epoch 52/100\n",
      "185657/185657 [==============================] - 2s 12us/step - loss: 0.4402 - acc: 0.8631 - val_loss: 1.0613 - val_acc: 0.7381\n",
      "Epoch 53/100\n",
      "185657/185657 [==============================] - 2s 12us/step - loss: 0.4424 - acc: 0.8628 - val_loss: 1.0162 - val_acc: 0.7499\n",
      "Epoch 54/100\n",
      "185657/185657 [==============================] - 2s 12us/step - loss: 0.4345 - acc: 0.8653 - val_loss: 1.0143 - val_acc: 0.7486\n",
      "Epoch 55/100\n",
      "185657/185657 [==============================] - 2s 12us/step - loss: 0.4369 - acc: 0.8642 - val_loss: 1.0154 - val_acc: 0.7493\n",
      "Epoch 56/100\n",
      "185657/185657 [==============================] - 2s 12us/step - loss: 0.4296 - acc: 0.8673 - val_loss: 1.0360 - val_acc: 0.7464\n",
      "Epoch 57/100\n",
      "185657/185657 [==============================] - 2s 12us/step - loss: 0.4273 - acc: 0.8671 - val_loss: 1.0286 - val_acc: 0.7483\n",
      "Epoch 58/100\n",
      "185657/185657 [==============================] - 2s 12us/step - loss: 0.4231 - acc: 0.8691 - val_loss: 1.0304 - val_acc: 0.7481\n"
     ]
    },
    {
     "name": "stdout",
     "output_type": "stream",
     "text": [
      "Epoch 59/100\n",
      "185657/185657 [==============================] - 2s 12us/step - loss: 0.4267 - acc: 0.8683 - val_loss: 1.0265 - val_acc: 0.7475\n",
      "Epoch 60/100\n",
      "185657/185657 [==============================] - 2s 12us/step - loss: 0.4241 - acc: 0.8687 - val_loss: 1.0342 - val_acc: 0.7493\n",
      "Epoch 61/100\n",
      "185657/185657 [==============================] - 2s 12us/step - loss: 0.4176 - acc: 0.8699 - val_loss: 1.0337 - val_acc: 0.7486\n",
      "Epoch 62/100\n",
      "185657/185657 [==============================] - 2s 12us/step - loss: 0.4185 - acc: 0.8701 - val_loss: 1.0395 - val_acc: 0.7454\n",
      "Epoch 63/100\n",
      "185657/185657 [==============================] - 2s 12us/step - loss: 0.4151 - acc: 0.8708 - val_loss: 1.0375 - val_acc: 0.7500\n",
      "Epoch 64/100\n",
      "185657/185657 [==============================] - 2s 12us/step - loss: 0.4126 - acc: 0.8716 - val_loss: 1.0442 - val_acc: 0.7462\n",
      "Epoch 65/100\n",
      "185657/185657 [==============================] - 2s 12us/step - loss: 0.4065 - acc: 0.8733 - val_loss: 1.0191 - val_acc: 0.7536\n",
      "Epoch 66/100\n",
      "185657/185657 [==============================] - 2s 12us/step - loss: 0.4006 - acc: 0.8753 - val_loss: 1.0330 - val_acc: 0.7491\n",
      "Epoch 67/100\n",
      "185657/185657 [==============================] - 2s 12us/step - loss: 0.4024 - acc: 0.8746 - val_loss: 1.0358 - val_acc: 0.7497\n",
      "Epoch 68/100\n",
      "185657/185657 [==============================] - 2s 12us/step - loss: 0.4026 - acc: 0.8746 - val_loss: 1.0382 - val_acc: 0.7499\n",
      "Epoch 69/100\n",
      "185657/185657 [==============================] - 2s 12us/step - loss: 0.3993 - acc: 0.8750 - val_loss: 1.0219 - val_acc: 0.7526\n",
      "Epoch 70/100\n",
      "185657/185657 [==============================] - 2s 12us/step - loss: 0.3942 - acc: 0.8771 - val_loss: 1.0185 - val_acc: 0.7540\n",
      "Epoch 71/100\n",
      "185657/185657 [==============================] - 2s 12us/step - loss: 0.3913 - acc: 0.8782 - val_loss: 1.0351 - val_acc: 0.7528\n",
      "Epoch 72/100\n",
      "185657/185657 [==============================] - 2s 12us/step - loss: 0.3916 - acc: 0.8773 - val_loss: 1.0456 - val_acc: 0.7505\n",
      "Epoch 73/100\n",
      "185657/185657 [==============================] - 2s 12us/step - loss: 0.3914 - acc: 0.8779 - val_loss: 1.0248 - val_acc: 0.7546\n",
      "Epoch 74/100\n",
      "185657/185657 [==============================] - 2s 12us/step - loss: 0.3854 - acc: 0.8790 - val_loss: 1.0204 - val_acc: 0.7564\n",
      "Epoch 75/100\n",
      "185657/185657 [==============================] - 2s 12us/step - loss: 0.3925 - acc: 0.8779 - val_loss: 1.0277 - val_acc: 0.7558\n",
      "Epoch 76/100\n",
      "185657/185657 [==============================] - 2s 12us/step - loss: 0.3812 - acc: 0.8804 - val_loss: 1.0181 - val_acc: 0.7574\n",
      "Epoch 77/100\n",
      "185657/185657 [==============================] - 2s 12us/step - loss: 0.3786 - acc: 0.8814 - val_loss: 1.0423 - val_acc: 0.7536\n",
      "Epoch 78/100\n",
      "185657/185657 [==============================] - 2s 12us/step - loss: 0.3782 - acc: 0.8821 - val_loss: 1.0186 - val_acc: 0.7584\n",
      "Epoch 79/100\n",
      "185657/185657 [==============================] - 2s 12us/step - loss: 0.3746 - acc: 0.8831 - val_loss: 1.0362 - val_acc: 0.7544\n",
      "Epoch 80/100\n",
      "185657/185657 [==============================] - 2s 12us/step - loss: 0.3712 - acc: 0.8842 - val_loss: 1.0315 - val_acc: 0.7572\n",
      "Epoch 81/100\n",
      "185657/185657 [==============================] - 2s 12us/step - loss: 0.3801 - acc: 0.8815 - val_loss: 1.0364 - val_acc: 0.7565\n",
      "Epoch 82/100\n",
      "185657/185657 [==============================] - 2s 12us/step - loss: 0.3711 - acc: 0.8839 - val_loss: 1.0327 - val_acc: 0.7545\n",
      "Epoch 83/100\n",
      "185657/185657 [==============================] - 2s 12us/step - loss: 0.3715 - acc: 0.8843 - val_loss: 1.0469 - val_acc: 0.7555\n",
      "Epoch 84/100\n",
      "185657/185657 [==============================] - 2s 12us/step - loss: 0.3670 - acc: 0.8850 - val_loss: 1.0401 - val_acc: 0.7542\n",
      "Epoch 85/100\n",
      "185657/185657 [==============================] - 2s 12us/step - loss: 0.3671 - acc: 0.8853 - val_loss: 1.0225 - val_acc: 0.7588\n",
      "Epoch 86/100\n",
      "185657/185657 [==============================] - 2s 12us/step - loss: 0.3661 - acc: 0.8862 - val_loss: 1.0302 - val_acc: 0.7562\n",
      "Epoch 87/100\n",
      "185657/185657 [==============================] - 2s 12us/step - loss: 0.3663 - acc: 0.8860 - val_loss: 1.0449 - val_acc: 0.7540\n",
      "Epoch 88/100\n",
      "185657/185657 [==============================] - 2s 12us/step - loss: 0.3620 - acc: 0.8860 - val_loss: 1.0536 - val_acc: 0.7519\n",
      "Epoch 89/100\n",
      "185657/185657 [==============================] - 2s 12us/step - loss: 0.3616 - acc: 0.8880 - val_loss: 1.0527 - val_acc: 0.7533\n",
      "Epoch 90/100\n",
      "185657/185657 [==============================] - 2s 12us/step - loss: 0.3569 - acc: 0.8884 - val_loss: 1.0434 - val_acc: 0.7552\n",
      "Epoch 91/100\n",
      "185657/185657 [==============================] - 2s 12us/step - loss: 0.3531 - acc: 0.8884 - val_loss: 1.0348 - val_acc: 0.7562\n",
      "Epoch 92/100\n",
      "185657/185657 [==============================] - 2s 12us/step - loss: 0.3611 - acc: 0.8873 - val_loss: 1.0422 - val_acc: 0.7581\n",
      "Epoch 93/100\n",
      "185657/185657 [==============================] - 2s 11us/step - loss: 0.3522 - acc: 0.8902 - val_loss: 1.0513 - val_acc: 0.7561\n",
      "Epoch 94/100\n",
      "185657/185657 [==============================] - 2s 12us/step - loss: 0.3547 - acc: 0.8891 - val_loss: 1.0295 - val_acc: 0.7568\n",
      "Epoch 95/100\n",
      "185657/185657 [==============================] - 2s 11us/step - loss: 0.3522 - acc: 0.8901 - val_loss: 1.0298 - val_acc: 0.7573\n",
      "Epoch 96/100\n",
      "185657/185657 [==============================] - 2s 11us/step - loss: 0.3511 - acc: 0.8903 - val_loss: 1.0248 - val_acc: 0.7588\n",
      "Epoch 97/100\n",
      "185657/185657 [==============================] - 2s 12us/step - loss: 0.3512 - acc: 0.8905 - val_loss: 1.0636 - val_acc: 0.7566\n",
      "Epoch 98/100\n",
      "185657/185657 [==============================] - 2s 12us/step - loss: 0.3430 - acc: 0.8928 - val_loss: 1.0566 - val_acc: 0.7551\n",
      "Epoch 99/100\n",
      "185657/185657 [==============================] - 2s 11us/step - loss: 0.3416 - acc: 0.8932 - val_loss: 1.0646 - val_acc: 0.7530\n",
      "Epoch 100/100\n",
      "185657/185657 [==============================] - 2s 11us/step - loss: 0.3450 - acc: 0.8922 - val_loss: 1.0771 - val_acc: 0.7479\n"
     ]
    }
   ],
   "source": [
    "if args.loadmodel=='none':\n",
    "  model.compile(loss='categorical_crossentropy', \n",
    "              optimizer='adam', metrics=['accuracy'])\n",
    "  hist = model.fit(x=learn_features, y=learn_labels,\n",
    "          batch_size=batchsize, epochs=n_epoch,\n",
    "          validation_data=(valid_features,valid_labels))"
   ]
  },
  {
   "cell_type": "markdown",
   "metadata": {},
   "source": [
    "## モデルの保存と学習曲線の表示"
   ]
  },
  {
   "cell_type": "code",
   "execution_count": 6,
   "metadata": {},
   "outputs": [
    {
     "data": {
      "image/png": "[encoded data removed]",
      "text/plain": [
       "<matplotlib.figure.Figure at 0x7fea38420c18>"
      ]
     },
     "metadata": {},
     "output_type": "display_data"
    },
    {
     "data": {
      "image/png": "[encoded data removed]",
      "text/plain": [
       "<matplotlib.figure.Figure at 0x7fea383a6be0>"
      ]
     },
     "metadata": {},
     "output_type": "display_data"
    }
   ],
   "source": [
    "#モデルの保存\n",
    "if args.savemodel != 'none':\n",
    "  model.save(args.savemodel)\n",
    "\n",
    "if args.loadmodel=='none':\n",
    "  #loss\n",
    "  loss = hist.history[\"loss\"]\n",
    "  val_loss = hist.history[\"val_loss\"]\n",
    "  fig = plt.figure()\n",
    "  plt.plot(range(len(loss)), loss, \"bo\", color=\"r\", label=\"Training loss\")\n",
    "  plt.plot(range(len(val_loss)), val_loss, \"bo\", color=\"b\", label=\"validing loss\")\n",
    "  plt.xlabel(\"epochs\")\n",
    "  plt.title(\"loss\")\n",
    "\n",
    "  #acc\n",
    "  acc = hist.history[\"acc\"]\n",
    "  val_acc = hist.history[\"val_acc\"]\n",
    "  fig = plt.figure()\n",
    "  plt.ylim(0,1)\n",
    "  plt.plot(range(len(acc)), acc, \"bo\", color=\"r\", label=\"Training acc\")\n",
    "  plt.plot(range(len(val_acc)), val_acc, \"bo\", color=\"b\", label=\"validing acc\")\n",
    "  plt.xlabel(\"epochs\")\n",
    "  plt.title(\"acc\")"
   ]
  },
  {
   "cell_type": "markdown",
   "metadata": {},
   "source": [
    "## 発話レベルの評価"
   ]
  },
  {
   "cell_type": "code",
   "execution_count": 7,
   "metadata": {},
   "outputs": [
    {
     "data": {
      "application/vnd.jupyter.widget-view+json": {
       "model_id": "1cee8a5bb9e043658444fb9594654b0f",
       "version_major": 2,
       "version_minor": 0
      },
      "text/html": [
       "<p>Failed to display Jupyter Widget of type <code>HBox</code>.</p>\n",
       "<p>\n",
       "  If you're reading this message in the Jupyter Notebook or JupyterLab Notebook, it may mean\n",
       "  that the widgets JavaScript is still loading. If this message persists, it\n",
       "  likely means that the widgets JavaScript library is either not installed or\n",
       "  not enabled. See the <a href=\"https://ipywidgets.readthedocs.io/en/stable/user_install.html\">Jupyter\n",
       "  Widgets Documentation</a> for setup instructions.\n",
       "</p>\n",
       "<p>\n",
       "  If you're reading this message in another frontend (for example, a static\n",
       "  rendering on GitHub or <a href=\"https://nbviewer.jupyter.org/\">NBViewer</a>),\n",
       "  it may mean that your frontend doesn't currently support widgets.\n",
       "</p>\n"
      ],
      "text/plain": [
       "HBox(children=(IntProgress(value=0, max=495), HTML(value='')))"
      ]
     },
     "metadata": {},
     "output_type": "display_data"
    },
    {
     "name": "stderr",
     "output_type": "stream",
     "text": [
      "/usr/local/src/pyenv/versions/anaconda3-5.1.0/lib/python3.6/site-packages/ipykernel_launcher.py:53: RuntimeWarning: divide by zero encountered in log\n"
     ]
    },
    {
     "name": "stdout",
     "output_type": "stream",
     "text": [
      "\n",
      "trainset error rate\n",
      "0.0\n"
     ]
    },
    {
     "data": {
      "application/vnd.jupyter.widget-view+json": {
       "model_id": "743c375bd8b9432cb341cc5a660ccb7c",
       "version_major": 2,
       "version_minor": 0
      },
      "text/html": [
       "<p>Failed to display Jupyter Widget of type <code>HBox</code>.</p>\n",
       "<p>\n",
       "  If you're reading this message in the Jupyter Notebook or JupyterLab Notebook, it may mean\n",
       "  that the widgets JavaScript is still loading. If this message persists, it\n",
       "  likely means that the widgets JavaScript library is either not installed or\n",
       "  not enabled. See the <a href=\"https://ipywidgets.readthedocs.io/en/stable/user_install.html\">Jupyter\n",
       "  Widgets Documentation</a> for setup instructions.\n",
       "</p>\n",
       "<p>\n",
       "  If you're reading this message in another frontend (for example, a static\n",
       "  rendering on GitHub or <a href=\"https://nbviewer.jupyter.org/\">NBViewer</a>),\n",
       "  it may mean that your frontend doesn't currently support widgets.\n",
       "</p>\n"
      ],
      "text/plain": [
       "HBox(children=(IntProgress(value=0, max=494), HTML(value='')))"
      ]
     },
     "metadata": {},
     "output_type": "display_data"
    },
    {
     "name": "stdout",
     "output_type": "stream",
     "text": [
      "\n",
      "validset error rate\n",
      "0.0\n"
     ]
    },
    {
     "data": {
      "application/vnd.jupyter.widget-view+json": {
       "model_id": "1489dc5ef2614e5db2874659b96f24f6",
       "version_major": 2,
       "version_minor": 0
      },
      "text/html": [
       "<p>Failed to display Jupyter Widget of type <code>HBox</code>.</p>\n",
       "<p>\n",
       "  If you're reading this message in the Jupyter Notebook or JupyterLab Notebook, it may mean\n",
       "  that the widgets JavaScript is still loading. If this message persists, it\n",
       "  likely means that the widgets JavaScript library is either not installed or\n",
       "  not enabled. See the <a href=\"https://ipywidgets.readthedocs.io/en/stable/user_install.html\">Jupyter\n",
       "  Widgets Documentation</a> for setup instructions.\n",
       "</p>\n",
       "<p>\n",
       "  If you're reading this message in another frontend (for example, a static\n",
       "  rendering on GitHub or <a href=\"https://nbviewer.jupyter.org/\">NBViewer</a>),\n",
       "  it may mean that your frontend doesn't currently support widgets.\n",
       "</p>\n"
      ],
      "text/plain": [
       "HBox(children=(IntProgress(value=0, max=3952), HTML(value='')))"
      ]
     },
     "metadata": {},
     "output_type": "display_data"
    },
    {
     "name": "stdout",
     "output_type": "stream",
     "text": [
      "\n",
      "testset error rate\n",
      "0.2277327935222672\n"
     ]
    }
   ],
   "source": [
    "#学習データ\n",
    "learn_error_rate = eval(learn_feature_lst, learn_label_lst, model)\n",
    "print(\"trainset error rate\")\n",
    "print(learn_error_rate)\n",
    "\n",
    "valid_error_rate = eval(valid_feature_lst, valid_label_lst, model)\n",
    "print(\"validset error rate\")\n",
    "print(valid_error_rate)\n",
    "\n",
    "test_error_rate = eval(test_feature_lst, test_label_lst, model)\n",
    "print(\"testset error rate\")\n",
    "print(test_error_rate)"
   ]
  },
  {
   "cell_type": "code",
   "execution_count": null,
   "metadata": {},
   "outputs": [],
   "source": []
  },
  {
   "cell_type": "code",
   "execution_count": null,
   "metadata": {},
   "outputs": [],
   "source": []
  }
 ],
 "metadata": {
  "kernelspec": {
   "display_name": "Python 3",
   "language": "python",
   "name": "python3"
  },
  "language_info": {
   "codemirror_mode": {
    "name": "ipython",
    "version": 3
   },
   "file_extension": ".py",
   "mimetype": "text/x-python",
   "name": "python",
   "nbconvert_exporter": "python",
   "pygments_lexer": "ipython3",
   "version": "3.6.4"
  }
 },
 "nbformat": 4,
 "nbformat_minor": 2
}
