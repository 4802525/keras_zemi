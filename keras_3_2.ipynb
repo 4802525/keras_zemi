{
 "cells": [
  {
   "cell_type": "markdown",
   "metadata": {},
   "source": [
    "# kerasを使って話者識別モデルを作ろう\n",
    "データベース：  \n",
    "科警研DB 話者99人  \n",
    "発話内容 ATR音素バランス文A50文  \n",
    "  \n",
    "実験：  \n",
    "発話レベルの認識  \n",
    "発話内容open  \n",
    " A01-A05の5文で学習，A06-A10の5文で検証，A11-A50の40文で評価  \n",
    "特徴量  \n",
    " 対数MFB40bin×7フレーム"
   ]
  },
  {
   "cell_type": "markdown",
   "metadata": {},
   "source": [
    "## ライブラリなどの準備"
   ]
  },
  {
   "cell_type": "code",
   "execution_count": 1,
   "metadata": {},
   "outputs": [
    {
     "name": "stderr",
     "output_type": "stream",
     "text": [
      "Using TensorFlow backend.\n"
     ]
    }
   ],
   "source": [
    "#ライブラリ群\n",
    "import argparse\n",
    "import numpy as np\n",
    "from numpy.random import *\n",
    "from tqdm import tqdm_notebook as tqdm\n",
    "import keras\n",
    "from keras.models import Sequential\n",
    "from keras.initializers import TruncatedNormal\n",
    "from keras.layers import Activation, Dense, Dropout\n",
    "from keras.utils import np_utils\n",
    "import tensorflow as tf\n",
    "from keras import backend as K\n",
    "import matplotlib.pyplot as plt\n",
    "%matplotlib inline\n",
    "#matplotlib.use(\"Agg\")\n",
    "\n",
    "#プログラムの引数\n",
    "# parser = argparse.ArgumentParser(description=\"Speaker Varification\")\n",
    "\n",
    "# parser.add_argument( '--gpu', '-g', default = \"0\", type = str,\n",
    "#                     help = 'GPU ID')\n",
    "# parser.add_argument( '--gpu_use', '-gu', default = 0.3, type = float,\n",
    "#                     help = 'GPU use rate')\n",
    "# parser.add_argument( '--list_directory', '-ld', default=\"/net/venus/research3/B4system2019/keras_zemi/kakeiken/list\",\n",
    "#                     help = 'list directory')\n",
    "# parser.add_argument( '--learn_input', '-li', default=\"mfb40_learn.lst\",\n",
    "#                     help = 'learn set')\n",
    "# parser.add_argument( '--valid_input', '-vi', default=\"mfb40_valid.lst\",\n",
    "#                     help = 'valid set')\n",
    "# parser.add_argument( '--test_input', '-ti', default=\"mfb40_test.lst\",\n",
    "#                     help = 'test set')\n",
    "# parser.add_argument( '--input_node', '-in', default=40, type=int,\n",
    "#                     help = 'number of input node')\n",
    "# parser.add_argument( '--num_frame', '-nf', default=1, type=int,\n",
    "#                     help = number of input frame)\n",
    "# parser.add_argument( '--output_node', '-on', default=99, type=int,\n",
    "#                     help = 'number of output node')\n",
    "# parser.add_argument( '--batch', '-b', default=1000, type=int,\n",
    "#                     help = 'learning minibatch size')\n",
    "# parser.add_argument( '--epoch', '-e', default=100, type=int,\n",
    "#                     help = 'number of epochs to learn')\n",
    "# parser.add_argument( '--savemodel', '-sm', default='none',\n",
    "#                     help = 'model file')\n",
    "# parser.add_argument( '--loadmodel', '-lm', default='none',\n",
    "#                     help = 'model file')\n",
    "# args = parser.parse_args()\n",
    "\n",
    "#parserの代わり\n",
    "class Argument:\n",
    "  gpu = \"0\"\n",
    "  gpu_use=0.3\n",
    "  list_directory = \"/net/venus/research3/B4system2019/keras_zemi/kakeiken/list\"\n",
    "  learn_input = \"mfb40_learn.lst\"\n",
    "  valid_input = \"mfb40_valid.lst\"\n",
    "  test_input = \"mfb40_test.lst\"\n",
    "  input_node = 40\n",
    "  num_frame = 7\n",
    "  output_node = 99\n",
    "  batch = 1000\n",
    "  epoch = 100\n",
    "  savemodel = 'none'\n",
    "  loadmodel = 'none'\n",
    "\n",
    "args = Argument\n",
    "\n",
    "config = tf.ConfigProto(\n",
    "  gpu_options = tf.GPUOptions(\n",
    "    visible_device_list=args.gpu,\n",
    "    per_process_gpu_memory_fraction=args.gpu_use\n",
    "  )\n",
    ")\n",
    "sess = tf.Session(config=config)\n",
    "K.set_session(sess)\n",
    "\n",
    "batchsize = args.batch\n",
    "n_input = args.input_node\n",
    "n_frame = args.num_frame\n",
    "n_output = args.output_node\n",
    "n_epoch = args.epoch"
   ]
  },
  {
   "cell_type": "markdown",
   "metadata": {},
   "source": [
    "## 関数の準備\n",
    "### file_read:リストファイルを読み込んでラベルと特徴量を返す\n",
    "labels:1フレームごとのone-hotラベル  \n",
    "features:1フレームごとの特徴量  \n",
    "### file_read_to_lst:リストファイルを読み込んで発話ごと(リストで管理)のラベルと特徴量を返す\n",
    "label_lst:1発声ごとのラベル(one-hotではない)  \n",
    "feature_lst:1発声ごとにリスト化された1フレームごとの特徴量 \n",
    "### nomalization:正規化処理を行う\n",
    "各次元で学習データの平均分散を計算し，それを用いて正規化(標準化)を行う．\n",
    "### eval:発話レベルの評価を行う"
   ]
  },
  {
   "cell_type": "code",
   "execution_count": 2,
   "metadata": {},
   "outputs": [],
   "source": [
    "def file_read(lstfile):\n",
    "  features_lst=[]\n",
    "  labels_lst=[]\n",
    "    \n",
    "  with open(lstfile) as fp:\n",
    "    for data in tqdm(fp):\n",
    "      tmp = np.load(data.rstrip())\n",
    "      #前後無音が入っているのでその部分は除去\n",
    "      x = tmp['feature'][10:-40]\n",
    "      y = tmp['label'][10:-40]\n",
    "      i = 0\n",
    "        \n",
    "      #n_frame結合し，リストに格納\n",
    "      for i in range(len(x) - n_frame):\n",
    "        x_ = x[i:i+n_frame].reshape(n_input*n_frame)\n",
    "        features_lst.append(x_)\n",
    "        labels_lst.append(y[0])\n",
    "\n",
    "  labels = np.array(np_utils.to_categorical(labels_lst), dtype = np.int32)\n",
    "  features = np.array(features_lst, dtype = np.float32)\n",
    "  return labels, features\n",
    "\n",
    "def file_read_to_lst(lstfile):\n",
    "  feature_lst = []\n",
    "  label_lst = []\n",
    "  with open(lstfile) as fp:\n",
    "    for data in tqdm(fp):\n",
    "      #前後無音が入っているのでその部分は除去\n",
    "      tmp = np.load(data.rstrip())\n",
    "      x = tmp['feature'][10:-40]\n",
    "      y = tmp['label'][10:-40]\n",
    "      i = 0\n",
    "      f_lst = []\n",
    "        \n",
    "      #n_frame結合し，リストに格納\n",
    "      for i in range(len(x) - n_frame):\n",
    "        x_ = x[i:i+n_frame].reshape(n_input*n_frame)\n",
    "        f_lst.append(x_)\n",
    "        \n",
    "      label_lst.append(y[0])\n",
    "      f = np.array(f_lst, dtype=np.float32)\n",
    "      feature_lst.append(f)\n",
    "  return label_lst, feature_lst\n",
    "            \n",
    "def nomalization(features, feature_lst, mean, std):\n",
    "  features=(features-mean)/std\n",
    "  feature_lst = [ (feats-mean)/std for feats in feature_lst]\n",
    "  return features, feature_lst\n",
    "\n",
    "def eval(feature_lst, label_lst, model):\n",
    "  pred_lst = []\n",
    "  for feat in tqdm(feature_lst):\n",
    "    pred = np.argmax(np.sum(np.log(model.predict(feat)),axis=0))\n",
    "    pred_lst.append(pred)\n",
    "  labels = np.array(label_lst,dtype=int)\n",
    "  preds = np.array(pred_lst,dtype=int)\n",
    "  err_rate = float(sum(labels != preds)/len(labels)*100.0)\n",
    "  return err_rate"
   ]
  },
  {
   "cell_type": "markdown",
   "metadata": {},
   "source": [
    "## データ読み込み"
   ]
  },
  {
   "cell_type": "code",
   "execution_count": 3,
   "metadata": {},
   "outputs": [
    {
     "name": "stdout",
     "output_type": "stream",
     "text": [
      "learn data loding\n"
     ]
    },
    {
     "data": {
      "application/vnd.jupyter.widget-view+json": {
       "model_id": "413ed9f315de47058f853f286b184a33",
       "version_major": 2,
       "version_minor": 0
      },
      "text/html": [
       "<p>Failed to display Jupyter Widget of type <code>HBox</code>.</p>\n",
       "<p>\n",
       "  If you're reading this message in the Jupyter Notebook or JupyterLab Notebook, it may mean\n",
       "  that the widgets JavaScript is still loading. If this message persists, it\n",
       "  likely means that the widgets JavaScript library is either not installed or\n",
       "  not enabled. See the <a href=\"https://ipywidgets.readthedocs.io/en/stable/user_install.html\">Jupyter\n",
       "  Widgets Documentation</a> for setup instructions.\n",
       "</p>\n",
       "<p>\n",
       "  If you're reading this message in another frontend (for example, a static\n",
       "  rendering on GitHub or <a href=\"https://nbviewer.jupyter.org/\">NBViewer</a>),\n",
       "  it may mean that your frontend doesn't currently support widgets.\n",
       "</p>\n"
      ],
      "text/plain": [
       "HBox(children=(IntProgress(value=1, bar_style='info', max=1), HTML(value='')))"
      ]
     },
     "metadata": {},
     "output_type": "display_data"
    },
    {
     "name": "stdout",
     "output_type": "stream",
     "text": [
      "\n"
     ]
    },
    {
     "data": {
      "application/vnd.jupyter.widget-view+json": {
       "model_id": "918bbeae4ed3496c9a8ee2431e69ec71",
       "version_major": 2,
       "version_minor": 0
      },
      "text/html": [
       "<p>Failed to display Jupyter Widget of type <code>HBox</code>.</p>\n",
       "<p>\n",
       "  If you're reading this message in the Jupyter Notebook or JupyterLab Notebook, it may mean\n",
       "  that the widgets JavaScript is still loading. If this message persists, it\n",
       "  likely means that the widgets JavaScript library is either not installed or\n",
       "  not enabled. See the <a href=\"https://ipywidgets.readthedocs.io/en/stable/user_install.html\">Jupyter\n",
       "  Widgets Documentation</a> for setup instructions.\n",
       "</p>\n",
       "<p>\n",
       "  If you're reading this message in another frontend (for example, a static\n",
       "  rendering on GitHub or <a href=\"https://nbviewer.jupyter.org/\">NBViewer</a>),\n",
       "  it may mean that your frontend doesn't currently support widgets.\n",
       "</p>\n"
      ],
      "text/plain": [
       "HBox(children=(IntProgress(value=1, bar_style='info', max=1), HTML(value='')))"
      ]
     },
     "metadata": {},
     "output_type": "display_data"
    },
    {
     "name": "stdout",
     "output_type": "stream",
     "text": [
      "\n",
      "valid data loding\n"
     ]
    },
    {
     "data": {
      "application/vnd.jupyter.widget-view+json": {
       "model_id": "db1bd5bde2ae4cc0943f56e2ba138171",
       "version_major": 2,
       "version_minor": 0
      },
      "text/html": [
       "<p>Failed to display Jupyter Widget of type <code>HBox</code>.</p>\n",
       "<p>\n",
       "  If you're reading this message in the Jupyter Notebook or JupyterLab Notebook, it may mean\n",
       "  that the widgets JavaScript is still loading. If this message persists, it\n",
       "  likely means that the widgets JavaScript library is either not installed or\n",
       "  not enabled. See the <a href=\"https://ipywidgets.readthedocs.io/en/stable/user_install.html\">Jupyter\n",
       "  Widgets Documentation</a> for setup instructions.\n",
       "</p>\n",
       "<p>\n",
       "  If you're reading this message in another frontend (for example, a static\n",
       "  rendering on GitHub or <a href=\"https://nbviewer.jupyter.org/\">NBViewer</a>),\n",
       "  it may mean that your frontend doesn't currently support widgets.\n",
       "</p>\n"
      ],
      "text/plain": [
       "HBox(children=(IntProgress(value=1, bar_style='info', max=1), HTML(value='')))"
      ]
     },
     "metadata": {},
     "output_type": "display_data"
    },
    {
     "name": "stdout",
     "output_type": "stream",
     "text": [
      "\n"
     ]
    },
    {
     "data": {
      "application/vnd.jupyter.widget-view+json": {
       "model_id": "791579609bdb44d288ac0c71131e946b",
       "version_major": 2,
       "version_minor": 0
      },
      "text/html": [
       "<p>Failed to display Jupyter Widget of type <code>HBox</code>.</p>\n",
       "<p>\n",
       "  If you're reading this message in the Jupyter Notebook or JupyterLab Notebook, it may mean\n",
       "  that the widgets JavaScript is still loading. If this message persists, it\n",
       "  likely means that the widgets JavaScript library is either not installed or\n",
       "  not enabled. See the <a href=\"https://ipywidgets.readthedocs.io/en/stable/user_install.html\">Jupyter\n",
       "  Widgets Documentation</a> for setup instructions.\n",
       "</p>\n",
       "<p>\n",
       "  If you're reading this message in another frontend (for example, a static\n",
       "  rendering on GitHub or <a href=\"https://nbviewer.jupyter.org/\">NBViewer</a>),\n",
       "  it may mean that your frontend doesn't currently support widgets.\n",
       "</p>\n"
      ],
      "text/plain": [
       "HBox(children=(IntProgress(value=1, bar_style='info', max=1), HTML(value='')))"
      ]
     },
     "metadata": {},
     "output_type": "display_data"
    },
    {
     "name": "stdout",
     "output_type": "stream",
     "text": [
      "\n",
      "test data loding\n"
     ]
    },
    {
     "data": {
      "application/vnd.jupyter.widget-view+json": {
       "model_id": "ad292840332443ffaadc742d3a0bd5bb",
       "version_major": 2,
       "version_minor": 0
      },
      "text/html": [
       "<p>Failed to display Jupyter Widget of type <code>HBox</code>.</p>\n",
       "<p>\n",
       "  If you're reading this message in the Jupyter Notebook or JupyterLab Notebook, it may mean\n",
       "  that the widgets JavaScript is still loading. If this message persists, it\n",
       "  likely means that the widgets JavaScript library is either not installed or\n",
       "  not enabled. See the <a href=\"https://ipywidgets.readthedocs.io/en/stable/user_install.html\">Jupyter\n",
       "  Widgets Documentation</a> for setup instructions.\n",
       "</p>\n",
       "<p>\n",
       "  If you're reading this message in another frontend (for example, a static\n",
       "  rendering on GitHub or <a href=\"https://nbviewer.jupyter.org/\">NBViewer</a>),\n",
       "  it may mean that your frontend doesn't currently support widgets.\n",
       "</p>\n"
      ],
      "text/plain": [
       "HBox(children=(IntProgress(value=1, bar_style='info', max=1), HTML(value='')))"
      ]
     },
     "metadata": {},
     "output_type": "display_data"
    },
    {
     "name": "stdout",
     "output_type": "stream",
     "text": [
      "\n"
     ]
    },
    {
     "data": {
      "application/vnd.jupyter.widget-view+json": {
       "model_id": "9ac3ac3665ea40b79c2122a03a70545b",
       "version_major": 2,
       "version_minor": 0
      },
      "text/html": [
       "<p>Failed to display Jupyter Widget of type <code>HBox</code>.</p>\n",
       "<p>\n",
       "  If you're reading this message in the Jupyter Notebook or JupyterLab Notebook, it may mean\n",
       "  that the widgets JavaScript is still loading. If this message persists, it\n",
       "  likely means that the widgets JavaScript library is either not installed or\n",
       "  not enabled. See the <a href=\"https://ipywidgets.readthedocs.io/en/stable/user_install.html\">Jupyter\n",
       "  Widgets Documentation</a> for setup instructions.\n",
       "</p>\n",
       "<p>\n",
       "  If you're reading this message in another frontend (for example, a static\n",
       "  rendering on GitHub or <a href=\"https://nbviewer.jupyter.org/\">NBViewer</a>),\n",
       "  it may mean that your frontend doesn't currently support widgets.\n",
       "</p>\n"
      ],
      "text/plain": [
       "HBox(children=(IntProgress(value=1, bar_style='info', max=1), HTML(value='')))"
      ]
     },
     "metadata": {},
     "output_type": "display_data"
    },
    {
     "name": "stdout",
     "output_type": "stream",
     "text": [
      "\n",
      "(185657, 99) (185657, 280)\n"
     ]
    }
   ],
   "source": [
    "#学習データ\n",
    "print(\"learn data loding\")\n",
    "lstfile = args.list_directory + \"/\" + args.learn_input\n",
    "learn_labels, learn_features = file_read(lstfile)\n",
    "learn_label_lst, learn_feature_lst = file_read_to_lst(lstfile)\n",
    "mean = np.mean(learn_features,axis=0)\n",
    "std = np.std(learn_features,axis=0)\n",
    "learn_features, learn_feature_lst = nomalization(learn_features, learn_feature_lst, mean, std)\n",
    "\n",
    "#検証データ\n",
    "print(\"valid data loding\")\n",
    "lstfile = args.list_directory + \"/\" + args.valid_input\n",
    "valid_labels, valid_features = file_read(lstfile)\n",
    "valid_label_lst, valid_feature_lst = file_read_to_lst(lstfile)\n",
    "valid_features, valid_feature_lst = nomalization(valid_features, valid_feature_lst, mean, std)\n",
    "\n",
    "#評価データ\n",
    "print(\"test data loding\")\n",
    "lstfile = args.list_directory + \"/\" + args.test_input\n",
    "test_labels, test_features = file_read(lstfile)\n",
    "test_label_lst, test_feature_lst = file_read_to_lst(lstfile)\n",
    "test_features, test_feature_lst = nomalization(test_features, test_feature_lst, mean, std)\n",
    "\n",
    "print(np.shape(learn_labels),np.shape(learn_features))"
   ]
  },
  {
   "cell_type": "markdown",
   "metadata": {},
   "source": [
    "## モデルの構築"
   ]
  },
  {
   "cell_type": "code",
   "execution_count": 4,
   "metadata": {},
   "outputs": [
    {
     "name": "stdout",
     "output_type": "stream",
     "text": [
      "_________________________________________________________________\n",
      "Layer (type)                 Output Shape              Param #   \n",
      "=================================================================\n",
      "dense_1 (Dense)              (None, 700)               196700    \n",
      "_________________________________________________________________\n",
      "activation_1 (Activation)    (None, 700)               0         \n",
      "_________________________________________________________________\n",
      "dropout_1 (Dropout)          (None, 700)               0         \n",
      "_________________________________________________________________\n",
      "dense_2 (Dense)              (None, 400)               280400    \n",
      "_________________________________________________________________\n",
      "activation_2 (Activation)    (None, 400)               0         \n",
      "_________________________________________________________________\n",
      "dropout_2 (Dropout)          (None, 400)               0         \n",
      "_________________________________________________________________\n",
      "dense_3 (Dense)              (None, 100)               40100     \n",
      "_________________________________________________________________\n",
      "activation_3 (Activation)    (None, 100)               0         \n",
      "_________________________________________________________________\n",
      "dropout_3 (Dropout)          (None, 100)               0         \n",
      "_________________________________________________________________\n",
      "dense_4 (Dense)              (None, 99)                9999      \n",
      "=================================================================\n",
      "Total params: 527,199\n",
      "Trainable params: 527,199\n",
      "Non-trainable params: 0\n",
      "_________________________________________________________________\n"
     ]
    }
   ],
   "source": [
    "#自分で作ってみよう(input_dim=n_input*n_frame)\n",
    "TN = TruncatedNormal(seed=0) #切断正規分布\n",
    "if args.loadmodel != 'none':\n",
    "  model = load_model(args.loadmodel)\n",
    "else:\n",
    "  model = Sequential([\n",
    "    Dense(700, input_dim=n_input*n_frame, kernel_initializer=TN),\n",
    "    Activation('relu'),\n",
    "    Dropout(0.2),\n",
    "    Dense(400, kernel_initializer=TN),\n",
    "    Activation('relu'),\n",
    "    Dropout(0.2),\n",
    "    Dense(100, kernel_initializer=TN),\n",
    "    Activation('relu'),\n",
    "    Dropout(0.2),\n",
    "    Dense(n_output, activation='softmax')\n",
    "])\n",
    "model.summary()"
   ]
  },
  {
   "cell_type": "markdown",
   "metadata": {},
   "source": [
    "## 学習"
   ]
  },
  {
   "cell_type": "code",
   "execution_count": 5,
   "metadata": {},
   "outputs": [
    {
     "name": "stdout",
     "output_type": "stream",
     "text": [
      "Train on 185657 samples, validate on 224406 samples\n",
      "Epoch 1/100\n",
      "185657/185657 [==============================] - 3s 15us/step - loss: 3.4132 - acc: 0.1919 - val_loss: 2.3948 - val_acc: 0.4031\n",
      "Epoch 2/100\n",
      "185657/185657 [==============================] - 2s 11us/step - loss: 2.1547 - acc: 0.4387 - val_loss: 1.8999 - val_acc: 0.5171\n",
      "Epoch 3/100\n",
      "185657/185657 [==============================] - 2s 12us/step - loss: 1.7353 - acc: 0.5338 - val_loss: 1.6545 - val_acc: 0.5668\n",
      "Epoch 4/100\n",
      "185657/185657 [==============================] - 2s 12us/step - loss: 1.4996 - acc: 0.5897 - val_loss: 1.4940 - val_acc: 0.6031\n",
      "Epoch 5/100\n",
      "185657/185657 [==============================] - 2s 12us/step - loss: 1.3362 - acc: 0.6284 - val_loss: 1.4012 - val_acc: 0.6246\n",
      "Epoch 6/100\n",
      "185657/185657 [==============================] - 2s 12us/step - loss: 1.2227 - acc: 0.6555 - val_loss: 1.3169 - val_acc: 0.6430\n",
      "Epoch 7/100\n",
      "185657/185657 [==============================] - 2s 11us/step - loss: 1.1313 - acc: 0.6786 - val_loss: 1.2789 - val_acc: 0.6534\n",
      "Epoch 8/100\n",
      "185657/185657 [==============================] - 2s 12us/step - loss: 1.0663 - acc: 0.6956 - val_loss: 1.2469 - val_acc: 0.6625\n",
      "Epoch 9/100\n",
      "185657/185657 [==============================] - 2s 11us/step - loss: 1.0047 - acc: 0.7095 - val_loss: 1.2069 - val_acc: 0.6725\n",
      "Epoch 10/100\n",
      "185657/185657 [==============================] - 2s 12us/step - loss: 0.9470 - acc: 0.7243 - val_loss: 1.1883 - val_acc: 0.6784\n",
      "Epoch 11/100\n",
      "185657/185657 [==============================] - 2s 12us/step - loss: 0.9115 - acc: 0.7335 - val_loss: 1.1593 - val_acc: 0.6850\n",
      "Epoch 12/100\n",
      "185657/185657 [==============================] - 2s 12us/step - loss: 0.8634 - acc: 0.7480 - val_loss: 1.1221 - val_acc: 0.6952\n",
      "Epoch 13/100\n",
      "185657/185657 [==============================] - 2s 12us/step - loss: 0.8387 - acc: 0.7536 - val_loss: 1.1148 - val_acc: 0.6962\n",
      "Epoch 14/100\n",
      "185657/185657 [==============================] - 2s 12us/step - loss: 0.8087 - acc: 0.7615 - val_loss: 1.0947 - val_acc: 0.7041\n",
      "Epoch 15/100\n",
      "185657/185657 [==============================] - 2s 12us/step - loss: 0.7770 - acc: 0.7690 - val_loss: 1.0775 - val_acc: 0.7076\n",
      "Epoch 16/100\n",
      "185657/185657 [==============================] - 2s 12us/step - loss: 0.7559 - acc: 0.7758 - val_loss: 1.1096 - val_acc: 0.6994\n",
      "Epoch 17/100\n",
      "185657/185657 [==============================] - 2s 12us/step - loss: 0.7338 - acc: 0.7813 - val_loss: 1.0776 - val_acc: 0.7100\n",
      "Epoch 18/100\n",
      "185657/185657 [==============================] - 2s 12us/step - loss: 0.7166 - acc: 0.7852 - val_loss: 1.0451 - val_acc: 0.7143\n",
      "Epoch 19/100\n",
      "185657/185657 [==============================] - 2s 12us/step - loss: 0.6916 - acc: 0.7933 - val_loss: 1.0562 - val_acc: 0.7155\n",
      "Epoch 20/100\n",
      "185657/185657 [==============================] - 2s 11us/step - loss: 0.6733 - acc: 0.7978 - val_loss: 1.0453 - val_acc: 0.7212\n",
      "Epoch 21/100\n",
      "185657/185657 [==============================] - 2s 11us/step - loss: 0.6613 - acc: 0.8013 - val_loss: 1.0503 - val_acc: 0.7208\n",
      "Epoch 22/100\n",
      "185657/185657 [==============================] - 2s 12us/step - loss: 0.6502 - acc: 0.8045 - val_loss: 1.0248 - val_acc: 0.7275\n",
      "Epoch 23/100\n",
      "185657/185657 [==============================] - 2s 12us/step - loss: 0.6377 - acc: 0.8074 - val_loss: 1.0548 - val_acc: 0.7220\n",
      "Epoch 24/100\n",
      "185657/185657 [==============================] - 2s 12us/step - loss: 0.6239 - acc: 0.8110 - val_loss: 1.0543 - val_acc: 0.7214\n",
      "Epoch 25/100\n",
      "185657/185657 [==============================] - 2s 12us/step - loss: 0.6073 - acc: 0.8155 - val_loss: 1.0150 - val_acc: 0.7315\n",
      "Epoch 26/100\n",
      "185657/185657 [==============================] - 2s 12us/step - loss: 0.6016 - acc: 0.8168 - val_loss: 1.0316 - val_acc: 0.7285\n",
      "Epoch 27/100\n",
      "185657/185657 [==============================] - 2s 12us/step - loss: 0.5840 - acc: 0.8227 - val_loss: 1.0198 - val_acc: 0.7340\n",
      "Epoch 28/100\n",
      "185657/185657 [==============================] - 2s 12us/step - loss: 0.5827 - acc: 0.8219 - val_loss: 1.0003 - val_acc: 0.7360\n",
      "Epoch 29/100\n",
      "185657/185657 [==============================] - 2s 12us/step - loss: 0.5639 - acc: 0.8278 - val_loss: 1.0214 - val_acc: 0.7332\n",
      "Epoch 30/100\n",
      "185657/185657 [==============================] - 2s 12us/step - loss: 0.5584 - acc: 0.8301 - val_loss: 1.0280 - val_acc: 0.7338\n",
      "Epoch 31/100\n",
      "185657/185657 [==============================] - 2s 12us/step - loss: 0.5649 - acc: 0.8295 - val_loss: 1.0371 - val_acc: 0.7316\n",
      "Epoch 32/100\n",
      "185657/185657 [==============================] - 2s 11us/step - loss: 0.5437 - acc: 0.8338 - val_loss: 1.0330 - val_acc: 0.7338\n",
      "Epoch 33/100\n",
      "185657/185657 [==============================] - 2s 12us/step - loss: 0.5398 - acc: 0.8345 - val_loss: 1.0244 - val_acc: 0.7368\n",
      "Epoch 34/100\n",
      "185657/185657 [==============================] - 2s 11us/step - loss: 0.5224 - acc: 0.8399 - val_loss: 1.0269 - val_acc: 0.7376\n",
      "Epoch 35/100\n",
      "185657/185657 [==============================] - 2s 12us/step - loss: 0.5220 - acc: 0.8400 - val_loss: 1.0039 - val_acc: 0.7417\n",
      "Epoch 36/100\n",
      "185657/185657 [==============================] - 2s 12us/step - loss: 0.5207 - acc: 0.8410 - val_loss: 1.0261 - val_acc: 0.7371\n",
      "Epoch 37/100\n",
      "185657/185657 [==============================] - 2s 12us/step - loss: 0.5092 - acc: 0.8427 - val_loss: 1.0397 - val_acc: 0.7361\n",
      "Epoch 38/100\n",
      "185657/185657 [==============================] - 2s 12us/step - loss: 0.5021 - acc: 0.8450 - val_loss: 1.0127 - val_acc: 0.7418\n",
      "Epoch 39/100\n",
      "185657/185657 [==============================] - 2s 12us/step - loss: 0.4999 - acc: 0.8464 - val_loss: 1.0526 - val_acc: 0.7333\n",
      "Epoch 40/100\n",
      "185657/185657 [==============================] - 2s 12us/step - loss: 0.4940 - acc: 0.8486 - val_loss: 1.0356 - val_acc: 0.7355\n",
      "Epoch 41/100\n",
      "185657/185657 [==============================] - 2s 12us/step - loss: 0.4901 - acc: 0.8494 - val_loss: 1.0173 - val_acc: 0.7429\n",
      "Epoch 42/100\n",
      "185657/185657 [==============================] - 2s 12us/step - loss: 0.4840 - acc: 0.8503 - val_loss: 1.0137 - val_acc: 0.7431\n",
      "Epoch 43/100\n",
      "185657/185657 [==============================] - 2s 12us/step - loss: 0.4783 - acc: 0.8520 - val_loss: 1.0060 - val_acc: 0.7471\n",
      "Epoch 44/100\n",
      "185657/185657 [==============================] - 2s 11us/step - loss: 0.4704 - acc: 0.8544 - val_loss: 1.0409 - val_acc: 0.7407\n",
      "Epoch 45/100\n",
      "185657/185657 [==============================] - 2s 12us/step - loss: 0.4697 - acc: 0.8549 - val_loss: 1.0183 - val_acc: 0.7447\n",
      "Epoch 46/100\n",
      "185657/185657 [==============================] - 2s 12us/step - loss: 0.4652 - acc: 0.8561 - val_loss: 1.0379 - val_acc: 0.7409\n",
      "Epoch 47/100\n",
      "185657/185657 [==============================] - 2s 12us/step - loss: 0.4590 - acc: 0.8581 - val_loss: 1.0214 - val_acc: 0.7441\n",
      "Epoch 48/100\n",
      "185657/185657 [==============================] - 2s 12us/step - loss: 0.4605 - acc: 0.8580 - val_loss: 1.0209 - val_acc: 0.7473\n",
      "Epoch 49/100\n",
      "185657/185657 [==============================] - 2s 12us/step - loss: 0.4506 - acc: 0.8603 - val_loss: 1.0454 - val_acc: 0.7419\n",
      "Epoch 50/100\n",
      "185657/185657 [==============================] - 2s 12us/step - loss: 0.4470 - acc: 0.8607 - val_loss: 1.0563 - val_acc: 0.7407\n",
      "Epoch 51/100\n",
      "185657/185657 [==============================] - 2s 11us/step - loss: 0.4487 - acc: 0.8613 - val_loss: 1.0303 - val_acc: 0.7454\n",
      "Epoch 52/100\n",
      "185657/185657 [==============================] - 2s 12us/step - loss: 0.4435 - acc: 0.8626 - val_loss: 1.0269 - val_acc: 0.7442\n",
      "Epoch 53/100\n",
      "185657/185657 [==============================] - 2s 12us/step - loss: 0.4402 - acc: 0.8635 - val_loss: 1.0248 - val_acc: 0.7477\n",
      "Epoch 54/100\n",
      "185657/185657 [==============================] - 2s 12us/step - loss: 0.4334 - acc: 0.8661 - val_loss: 1.0093 - val_acc: 0.7515\n",
      "Epoch 55/100\n",
      "185657/185657 [==============================] - 2s 12us/step - loss: 0.4324 - acc: 0.8658 - val_loss: 1.0116 - val_acc: 0.7518\n",
      "Epoch 56/100\n",
      "185657/185657 [==============================] - 2s 12us/step - loss: 0.4298 - acc: 0.8664 - val_loss: 1.0381 - val_acc: 0.7445\n",
      "Epoch 57/100\n",
      "185657/185657 [==============================] - 2s 12us/step - loss: 0.4252 - acc: 0.8678 - val_loss: 1.0354 - val_acc: 0.7471\n",
      "Epoch 58/100\n",
      "185657/185657 [==============================] - 2s 12us/step - loss: 0.4217 - acc: 0.8682 - val_loss: 1.0119 - val_acc: 0.7510\n"
     ]
    },
    {
     "name": "stdout",
     "output_type": "stream",
     "text": [
      "Epoch 59/100\n",
      "185657/185657 [==============================] - 2s 12us/step - loss: 0.4129 - acc: 0.8709 - val_loss: 1.0601 - val_acc: 0.7452\n",
      "Epoch 60/100\n",
      "185657/185657 [==============================] - 2s 12us/step - loss: 0.4192 - acc: 0.8690 - val_loss: 1.0219 - val_acc: 0.7518\n",
      "Epoch 61/100\n",
      "185657/185657 [==============================] - 2s 12us/step - loss: 0.4112 - acc: 0.8718 - val_loss: 1.0290 - val_acc: 0.7500\n",
      "Epoch 62/100\n",
      "185657/185657 [==============================] - 2s 12us/step - loss: 0.4187 - acc: 0.8703 - val_loss: 1.0262 - val_acc: 0.7522\n",
      "Epoch 63/100\n",
      "185657/185657 [==============================] - 2s 12us/step - loss: 0.4089 - acc: 0.8721 - val_loss: 1.0126 - val_acc: 0.7556\n",
      "Epoch 64/100\n",
      "185657/185657 [==============================] - 2s 12us/step - loss: 0.3998 - acc: 0.8750 - val_loss: 1.0343 - val_acc: 0.7496\n",
      "Epoch 65/100\n",
      "185657/185657 [==============================] - 2s 12us/step - loss: 0.3991 - acc: 0.8756 - val_loss: 1.0134 - val_acc: 0.7561\n",
      "Epoch 66/100\n",
      "185657/185657 [==============================] - 2s 12us/step - loss: 0.4003 - acc: 0.8749 - val_loss: 1.0289 - val_acc: 0.7525\n",
      "Epoch 67/100\n",
      "185657/185657 [==============================] - 2s 12us/step - loss: 0.4016 - acc: 0.8754 - val_loss: 1.0293 - val_acc: 0.7524\n",
      "Epoch 68/100\n",
      "185657/185657 [==============================] - 2s 12us/step - loss: 0.4010 - acc: 0.8749 - val_loss: 1.0227 - val_acc: 0.7547\n",
      "Epoch 69/100\n",
      "185657/185657 [==============================] - 2s 12us/step - loss: 0.3966 - acc: 0.8762 - val_loss: 1.0400 - val_acc: 0.7508\n",
      "Epoch 70/100\n",
      "185657/185657 [==============================] - 2s 12us/step - loss: 0.3886 - acc: 0.8790 - val_loss: 1.0130 - val_acc: 0.7591\n",
      "Epoch 71/100\n",
      "185657/185657 [==============================] - 2s 12us/step - loss: 0.3904 - acc: 0.8783 - val_loss: 1.0348 - val_acc: 0.7531\n",
      "Epoch 72/100\n",
      "185657/185657 [==============================] - 2s 12us/step - loss: 0.3924 - acc: 0.8784 - val_loss: 1.0399 - val_acc: 0.7542\n",
      "Epoch 73/100\n",
      "185657/185657 [==============================] - 2s 12us/step - loss: 0.3821 - acc: 0.8809 - val_loss: 1.0351 - val_acc: 0.7556\n",
      "Epoch 74/100\n",
      "185657/185657 [==============================] - 2s 12us/step - loss: 0.3813 - acc: 0.8810 - val_loss: 1.0201 - val_acc: 0.7550\n",
      "Epoch 75/100\n",
      "185657/185657 [==============================] - 2s 12us/step - loss: 0.3809 - acc: 0.8805 - val_loss: 1.0483 - val_acc: 0.7509\n",
      "Epoch 76/100\n",
      "185657/185657 [==============================] - 2s 12us/step - loss: 0.3809 - acc: 0.8807 - val_loss: 1.0338 - val_acc: 0.7537\n",
      "Epoch 77/100\n",
      "185657/185657 [==============================] - 2s 12us/step - loss: 0.3798 - acc: 0.8811 - val_loss: 1.0405 - val_acc: 0.7541\n",
      "Epoch 78/100\n",
      "185657/185657 [==============================] - 2s 12us/step - loss: 0.3740 - acc: 0.8835 - val_loss: 1.0459 - val_acc: 0.7522\n",
      "Epoch 79/100\n",
      "185657/185657 [==============================] - 2s 12us/step - loss: 0.3731 - acc: 0.8836 - val_loss: 1.0387 - val_acc: 0.7556\n",
      "Epoch 80/100\n",
      "185657/185657 [==============================] - 2s 12us/step - loss: 0.3692 - acc: 0.8851 - val_loss: 1.0227 - val_acc: 0.7581\n",
      "Epoch 81/100\n",
      "185657/185657 [==============================] - 2s 12us/step - loss: 0.3682 - acc: 0.8855 - val_loss: 1.0497 - val_acc: 0.7532\n",
      "Epoch 82/100\n",
      "185657/185657 [==============================] - 2s 12us/step - loss: 0.3719 - acc: 0.8841 - val_loss: 1.0497 - val_acc: 0.7524\n",
      "Epoch 83/100\n",
      "185657/185657 [==============================] - 2s 12us/step - loss: 0.3691 - acc: 0.8844 - val_loss: 1.0435 - val_acc: 0.7560\n",
      "Epoch 84/100\n",
      "185657/185657 [==============================] - 2s 12us/step - loss: 0.3598 - acc: 0.8871 - val_loss: 1.0527 - val_acc: 0.7556\n",
      "Epoch 85/100\n",
      "185657/185657 [==============================] - 2s 12us/step - loss: 0.3626 - acc: 0.8868 - val_loss: 1.0515 - val_acc: 0.7543\n",
      "Epoch 86/100\n",
      "185657/185657 [==============================] - 2s 12us/step - loss: 0.3649 - acc: 0.8860 - val_loss: 1.0491 - val_acc: 0.7547\n",
      "Epoch 87/100\n",
      "185657/185657 [==============================] - 2s 12us/step - loss: 0.3577 - acc: 0.8878 - val_loss: 1.0575 - val_acc: 0.7538\n",
      "Epoch 88/100\n",
      "185657/185657 [==============================] - 2s 12us/step - loss: 0.3640 - acc: 0.8864 - val_loss: 1.0393 - val_acc: 0.7571\n",
      "Epoch 89/100\n",
      "185657/185657 [==============================] - 2s 12us/step - loss: 0.3630 - acc: 0.8866 - val_loss: 1.0642 - val_acc: 0.7511\n",
      "Epoch 90/100\n",
      "185657/185657 [==============================] - 2s 12us/step - loss: 0.3563 - acc: 0.8881 - val_loss: 1.0767 - val_acc: 0.7489\n",
      "Epoch 91/100\n",
      "185657/185657 [==============================] - 2s 12us/step - loss: 0.3584 - acc: 0.8882 - val_loss: 1.0600 - val_acc: 0.7551\n",
      "Epoch 92/100\n",
      "185657/185657 [==============================] - 2s 11us/step - loss: 0.3498 - acc: 0.8904 - val_loss: 1.0537 - val_acc: 0.7563\n",
      "Epoch 93/100\n",
      "185657/185657 [==============================] - 2s 11us/step - loss: 0.3543 - acc: 0.8895 - val_loss: 1.0388 - val_acc: 0.7585\n",
      "Epoch 94/100\n",
      "185657/185657 [==============================] - 2s 11us/step - loss: 0.3472 - acc: 0.8916 - val_loss: 1.0559 - val_acc: 0.7551\n",
      "Epoch 95/100\n",
      "185657/185657 [==============================] - 2s 11us/step - loss: 0.3482 - acc: 0.8907 - val_loss: 1.0575 - val_acc: 0.7561\n",
      "Epoch 96/100\n",
      "185657/185657 [==============================] - 2s 11us/step - loss: 0.3505 - acc: 0.8900 - val_loss: 1.0483 - val_acc: 0.7571\n",
      "Epoch 97/100\n",
      "185657/185657 [==============================] - 2s 11us/step - loss: 0.3431 - acc: 0.8919 - val_loss: 1.0667 - val_acc: 0.7568\n",
      "Epoch 98/100\n",
      "185657/185657 [==============================] - 2s 11us/step - loss: 0.3462 - acc: 0.8913 - val_loss: 1.0565 - val_acc: 0.7557\n",
      "Epoch 99/100\n",
      "185657/185657 [==============================] - 2s 11us/step - loss: 0.3379 - acc: 0.8943 - val_loss: 1.0685 - val_acc: 0.7535\n",
      "Epoch 100/100\n",
      "185657/185657 [==============================] - 2s 11us/step - loss: 0.3419 - acc: 0.8928 - val_loss: 1.0497 - val_acc: 0.7591\n"
     ]
    }
   ],
   "source": [
    "model.compile(loss='categorical_crossentropy', \n",
    "              optimizer='adam', metrics=['accuracy'])\n",
    "hist = model.fit(x=learn_features, y=learn_labels,\n",
    "          batch_size=batchsize, epochs=n_epoch,\n",
    "          validation_data=(valid_features,valid_labels))"
   ]
  },
  {
   "cell_type": "markdown",
   "metadata": {},
   "source": [
    "## モデルの保存と学習曲線の表示"
   ]
  },
  {
   "cell_type": "code",
   "execution_count": 6,
   "metadata": {},
   "outputs": [
    {
     "data": {
      "text/plain": [
       "Text(0.5,1,'acc')"
      ]
     },
     "execution_count": 6,
     "metadata": {},
     "output_type": "execute_result"
    },
    {
     "data": {
      "image/png": "[encoded data removed]",
      "text/plain": [
       "<matplotlib.figure.Figure at 0x7f857074e160>"
      ]
     },
     "metadata": {},
     "output_type": "display_data"
    },
    {
     "data": {
      "image/png": "[encoded data removed]",
      "text/plain": [
       "<matplotlib.figure.Figure at 0x7f857078c8d0>"
      ]
     },
     "metadata": {},
     "output_type": "display_data"
    }
   ],
   "source": [
    "#モデルの保存\n",
    "if args.savemodel != 'none':\n",
    "  model.save(args.savemodel)\n",
    "\n",
    "#loss\n",
    "loss = hist.history[\"loss\"]\n",
    "val_loss = hist.history[\"val_loss\"]\n",
    "fig = plt.figure()\n",
    "plt.plot(range(len(loss)), loss, \"bo\", color=\"r\", label=\"Training loss\")\n",
    "plt.plot(range(len(val_loss)), val_loss, \"bo\", color=\"b\", label=\"validing loss\")\n",
    "plt.xlabel(\"epochs\")\n",
    "plt.title(\"loss\")\n",
    "\n",
    "#acc\n",
    "acc = hist.history[\"acc\"]\n",
    "val_acc = hist.history[\"val_acc\"]\n",
    "fig = plt.figure()\n",
    "plt.ylim(0,1)\n",
    "plt.plot(range(len(acc)), acc, \"bo\", color=\"r\", label=\"Training acc\")\n",
    "plt.plot(range(len(val_acc)), val_acc, \"bo\", color=\"b\", label=\"validing acc\")\n",
    "plt.xlabel(\"epochs\")\n",
    "plt.title(\"acc\")"
   ]
  },
  {
   "cell_type": "markdown",
   "metadata": {},
   "source": [
    "## 発話レベルの評価"
   ]
  },
  {
   "cell_type": "code",
   "execution_count": 7,
   "metadata": {},
   "outputs": [
    {
     "data": {
      "application/vnd.jupyter.widget-view+json": {
       "model_id": "e8bb9a7a6e54452dbac6b502ffad920d",
       "version_major": 2,
       "version_minor": 0
      },
      "text/html": [
       "<p>Failed to display Jupyter Widget of type <code>HBox</code>.</p>\n",
       "<p>\n",
       "  If you're reading this message in the Jupyter Notebook or JupyterLab Notebook, it may mean\n",
       "  that the widgets JavaScript is still loading. If this message persists, it\n",
       "  likely means that the widgets JavaScript library is either not installed or\n",
       "  not enabled. See the <a href=\"https://ipywidgets.readthedocs.io/en/stable/user_install.html\">Jupyter\n",
       "  Widgets Documentation</a> for setup instructions.\n",
       "</p>\n",
       "<p>\n",
       "  If you're reading this message in another frontend (for example, a static\n",
       "  rendering on GitHub or <a href=\"https://nbviewer.jupyter.org/\">NBViewer</a>),\n",
       "  it may mean that your frontend doesn't currently support widgets.\n",
       "</p>\n"
      ],
      "text/plain": [
       "HBox(children=(IntProgress(value=0, max=495), HTML(value='')))"
      ]
     },
     "metadata": {},
     "output_type": "display_data"
    },
    {
     "name": "stderr",
     "output_type": "stream",
     "text": [
      "/usr/local/src/pyenv/versions/anaconda3-5.1.0/lib/python3.6/site-packages/ipykernel_launcher.py:53: RuntimeWarning: divide by zero encountered in log\n"
     ]
    },
    {
     "name": "stdout",
     "output_type": "stream",
     "text": [
      "\n",
      "trainset error rate\n",
      "0.0\n"
     ]
    },
    {
     "data": {
      "application/vnd.jupyter.widget-view+json": {
       "model_id": "9d799ce0a9014f0dacaf2b43e2f1c0f9",
       "version_major": 2,
       "version_minor": 0
      },
      "text/html": [
       "<p>Failed to display Jupyter Widget of type <code>HBox</code>.</p>\n",
       "<p>\n",
       "  If you're reading this message in the Jupyter Notebook or JupyterLab Notebook, it may mean\n",
       "  that the widgets JavaScript is still loading. If this message persists, it\n",
       "  likely means that the widgets JavaScript library is either not installed or\n",
       "  not enabled. See the <a href=\"https://ipywidgets.readthedocs.io/en/stable/user_install.html\">Jupyter\n",
       "  Widgets Documentation</a> for setup instructions.\n",
       "</p>\n",
       "<p>\n",
       "  If you're reading this message in another frontend (for example, a static\n",
       "  rendering on GitHub or <a href=\"https://nbviewer.jupyter.org/\">NBViewer</a>),\n",
       "  it may mean that your frontend doesn't currently support widgets.\n",
       "</p>\n"
      ],
      "text/plain": [
       "HBox(children=(IntProgress(value=0, max=494), HTML(value='')))"
      ]
     },
     "metadata": {},
     "output_type": "display_data"
    },
    {
     "name": "stdout",
     "output_type": "stream",
     "text": [
      "\n",
      "validset error rate\n",
      "0.0\n"
     ]
    },
    {
     "data": {
      "application/vnd.jupyter.widget-view+json": {
       "model_id": "c6bc08de731f4511ada1a68a8da78b29",
       "version_major": 2,
       "version_minor": 0
      },
      "text/html": [
       "<p>Failed to display Jupyter Widget of type <code>HBox</code>.</p>\n",
       "<p>\n",
       "  If you're reading this message in the Jupyter Notebook or JupyterLab Notebook, it may mean\n",
       "  that the widgets JavaScript is still loading. If this message persists, it\n",
       "  likely means that the widgets JavaScript library is either not installed or\n",
       "  not enabled. See the <a href=\"https://ipywidgets.readthedocs.io/en/stable/user_install.html\">Jupyter\n",
       "  Widgets Documentation</a> for setup instructions.\n",
       "</p>\n",
       "<p>\n",
       "  If you're reading this message in another frontend (for example, a static\n",
       "  rendering on GitHub or <a href=\"https://nbviewer.jupyter.org/\">NBViewer</a>),\n",
       "  it may mean that your frontend doesn't currently support widgets.\n",
       "</p>\n"
      ],
      "text/plain": [
       "HBox(children=(IntProgress(value=0, max=3952), HTML(value='')))"
      ]
     },
     "metadata": {},
     "output_type": "display_data"
    },
    {
     "name": "stdout",
     "output_type": "stream",
     "text": [
      "\n",
      "testset error rate\n",
      "0.2783400809716599\n"
     ]
    }
   ],
   "source": [
    "#学習データ\n",
    "learn_error_rate = eval(learn_feature_lst, learn_label_lst, model)\n",
    "print(\"trainset error rate\")\n",
    "print(learn_error_rate)\n",
    "\n",
    "valid_error_rate = eval(valid_feature_lst, valid_label_lst, model)\n",
    "print(\"validset error rate\")\n",
    "print(valid_error_rate)\n",
    "\n",
    "test_error_rate = eval(test_feature_lst, test_label_lst, model)\n",
    "print(\"testset error rate\")\n",
    "print(test_error_rate)"
   ]
  },
  {
   "cell_type": "code",
   "execution_count": null,
   "metadata": {},
   "outputs": [],
   "source": []
  },
  {
   "cell_type": "code",
   "execution_count": null,
   "metadata": {},
   "outputs": [],
   "source": []
  }
 ],
 "metadata": {
  "kernelspec": {
   "display_name": "Python 3",
   "language": "python",
   "name": "python3"
  },
  "language_info": {
   "codemirror_mode": {
    "name": "ipython",
    "version": 3
   },
   "file_extension": ".py",
   "mimetype": "text/x-python",
   "name": "python",
   "nbconvert_exporter": "python",
   "pygments_lexer": "ipython3",
   "version": "3.6.4"
  }
 },
 "nbformat": 4,
 "nbformat_minor": 2
}
